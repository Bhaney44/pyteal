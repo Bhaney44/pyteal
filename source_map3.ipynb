{
 "cells": [
  {
   "cell_type": "code",
   "execution_count": 1,
   "metadata": {},
   "outputs": [],
   "source": [
    "# %pip install showast@git+https://github.com/tzaffi/show_ast@unparse-source --upgrade\n",
    "\n",
    "from showast import Settings, Renderers, show_text, show_ast, show_source, showast\n",
    "\n",
    "Settings.update(dict(\n",
    "    # Styling options:\n",
    "    scale=1,\n",
    "    font='courier',\n",
    "    shape='none',\n",
    "    terminal_color='#008040',\n",
    "    nonterminal_color='#004080',\n",
    "\n",
    "    # AST display options:\n",
    "    omit_module=True,\n",
    "    omit_docstrings=True,\n",
    "\n",
    "    # By default omit_location_info and omit_source are True\n",
    "    omit_location_info=False,\n",
    "    locations_format=\"L{begin[0]}:{begin[1]}-L{end[0]}:{end[1]}\",\n",
    "    omit_source=False,\n",
    "\n",
    "    # Rendering engine is expected to expose \"render\" function\n",
    "    renderer=Renderers.graphviz,\n",
    "))"
   ]
  },
  {
   "cell_type": "code",
   "execution_count": 2,
   "metadata": {},
   "outputs": [],
   "source": [
    "# from dis import show_code\n",
    "# from dataclasses import dataclass\n",
    "# import dis\n",
    "\n",
    "import pyteal as pt\n",
    "from pyteal.compiler import source_map as ptsm\n",
    "\n",
    "import ast\n",
    "# from collections import OrderedDict\n",
    "import json\n",
    "import itertools\n",
    "import inspect\n",
    "import graphviz\n",
    "from pprint import pprint\n",
    "from tabulate import tabulate\n",
    "from typing import Any, Iterable"
   ]
  },
  {
   "cell_type": "code",
   "execution_count": 3,
   "metadata": {},
   "outputs": [],
   "source": [
    "hello = pt.Seq(pt.Log(pt.Concat(pt.Bytes(\"hello\"),\n",
    "    pt.Bytes(\"world\"))), \n",
    "    pt.Int(1),\n",
    ")"
   ]
  },
  {
   "cell_type": "code",
   "execution_count": 4,
   "metadata": {},
   "outputs": [],
   "source": [
    "goodbye = pt.Return(pt.Int(42))"
   ]
  },
  {
   "cell_type": "markdown",
   "metadata": {},
   "source": [
    "## EDGE CASE PROBLEM - Will not map operator in PyTeal code to TEAL when operator on its own line\n",
    "\n",
    "This seems to be a systemic issue with `inspect.stack()` and frames. For example, consider the following cell and try to debug it.\n",
    "\n",
    "You _CANNOT EVEN SET BREAKPOINTS_ at the `+` operators."
   ]
  },
  {
   "cell_type": "code",
   "execution_count": 5,
   "metadata": {},
   "outputs": [],
   "source": [
    "x = 42\n",
    "y = (\n",
    "    pt.Int(\n",
    "        1\n",
    "    ) \n",
    "    + \n",
    "    pt.Int(\n",
    "        2\n",
    "    ) \n",
    "    + \n",
    "    pt.Int(\n",
    "        3\n",
    "    ) \n",
    "    + \n",
    "    pt.Int(\n",
    "        4\n",
    "    ) \n",
    "    + \n",
    "    pt.Int(\n",
    "        5\n",
    "    )\n",
    "    + \n",
    "    pt.Int(\n",
    "        x\n",
    "    )\n",
    ")"
   ]
  },
  {
   "cell_type": "code",
   "execution_count": 6,
   "metadata": {},
   "outputs": [],
   "source": [
    "from an_expression import goodnum as goodnum\n",
    "from pyteal.types import TealType\n",
    "\n",
    "x = pt.ScratchVar(TealType.uint64)\n",
    "\n",
    "pure = pt.Seq(\n",
    "    pt.Pop(hello), \n",
    "    pt.Pop(goodnum),\n",
    "    x.store(pt.Int(1000)),\n",
    "    pt.Pop(pt.Int(1337) - pt.Int(42)),\n",
    "    goodbye,\n",
    ")"
   ]
  },
  {
   "cell_type": "code",
   "execution_count": 7,
   "metadata": {},
   "outputs": [],
   "source": [
    "simple_add = pt.Int(1) + pt.Int(2) + pt.Int(3) + pt.Int(4) + pt.Int(5)"
   ]
  },
  {
   "cell_type": "code",
   "execution_count": 8,
   "metadata": {},
   "outputs": [],
   "source": [
    "line_sep_add = (pt.Int(1) \n",
    "    +\n",
    "    pt.Int(2)\n",
    "     +\n",
    "    pt.Int(3)\n",
    "     +\n",
    "    pt.Int(4)\n",
    "     +\n",
    "    pt.Int(5)\n",
    ")"
   ]
  },
  {
   "cell_type": "code",
   "execution_count": 9,
   "metadata": {},
   "outputs": [],
   "source": [
    "line_sep_pt_add = pt.Add(\n",
    "    pt.Add(\n",
    "        pt.Add(\n",
    "            pt.Add(\n",
    "                pt.Int(1),\n",
    "                pt.Int(2),\n",
    "            ),\n",
    "            pt.Int(3),\n",
    "        ),\n",
    "        pt.Int(4),\n",
    "    ),\n",
    "    pt.Int(5),\n",
    ")"
   ]
  },
  {
   "cell_type": "code",
   "execution_count": 10,
   "metadata": {},
   "outputs": [],
   "source": [
    "from some_subroutines import double_exp, cat\n",
    "\n",
    "some_subroutines = pt.Seq(\n",
    "    pt.Log(cat(pt.Bytes(\"Mapping \"), pt.Bytes(\"PyTeal\"))),\n",
    "    pt.Log(pt.Bytes(\"this compiles but it'll blow up when executed\")),\n",
    "    double_exp(),\n",
    ")"
   ]
  },
  {
   "cell_type": "code",
   "execution_count": 11,
   "metadata": {},
   "outputs": [],
   "source": [
    "very_long = (pt.Int(1) + pt.Int(2) + pt.Int(3) + pt.Int(4) + pt.Int(5) + pt.Int(6) + pt.Int(7) + pt.Int(8) + pt.Int(9) + pt.Int(10) + pt.Int(11) + pt.Int(12) + pt.Int(13) \n",
    "    + pt.Int(14) + pt.Int(15) + pt.Int(16) + pt.Int(17) + pt.Int(18))"
   ]
  },
  {
   "cell_type": "code",
   "execution_count": 12,
   "metadata": {},
   "outputs": [],
   "source": [
    "from an_expression import goodnum as goodnum\n",
    "from pyteal.types import TealType\n",
    "\n",
    "x3 = pt.ScratchVar(TealType.uint64); semi_coloned = pt.Seq(pt.Pop(hello), pt.Pop(goodnum),x3.store(pt.Int(1000)),pt.Pop(pt.Int(1337) - pt.Int(42)),goodbye)"
   ]
  },
  {
   "cell_type": "code",
   "execution_count": 13,
   "metadata": {},
   "outputs": [],
   "source": [
    "program = {\n",
    "    \"pure\": pure,\n",
    "    \"simple add\": simple_add,\n",
    "    \"line sep add\": line_sep_add,\n",
    "    \"line sep pt.Add\": line_sep_pt_add,\n",
    "    \"some subroutines\":  some_subroutines,\n",
    "    \"very long\":  very_long,\n",
    "    \"semi-coloned\": semi_coloned,\n",
    "}"
   ]
  },
  {
   "cell_type": "code",
   "execution_count": 14,
   "metadata": {},
   "outputs": [],
   "source": [
    "c = itertools.count()\n",
    "\n",
    "def next_idx():\n",
    "    return 6 + next(c)\n",
    "\n",
    "source = {\n",
    "    \"pure\": _ih[next_idx()],\n",
    "    \"simple add\": _ih[next_idx()],\n",
    "    \"line sep add\": _ih[next_idx()],\n",
    "    \"line sep pt.Add\": _ih[next_idx()],\n",
    "    \"some subroutines\":  _ih[next_idx()],\n",
    "    \"very long\": _ih[next_idx()],\n",
    "    \"semi-coloned\": _ih[next_idx()],\n",
    "}"
   ]
  },
  {
   "cell_type": "code",
   "execution_count": 15,
   "metadata": {},
   "outputs": [
    {
     "data": {
      "text/plain": [
       "dict_keys(['pure', 'simple add', 'line sep add', 'line sep pt.Add', 'some subroutines', 'very long', 'semi-coloned'])"
      ]
     },
     "execution_count": 15,
     "metadata": {},
     "output_type": "execute_result"
    }
   ],
   "source": [
    "program.keys()"
   ]
  },
  {
   "cell_type": "code",
   "execution_count": 31,
   "metadata": {},
   "outputs": [],
   "source": [
    "_TL = \"TL\"\n",
    "_Teal = \"Teal\"\n",
    "_PTE = \"PTE\"\n",
    "_PTQ = \"PTQ\"\n",
    "_PTC = \"PTC\"\n",
    "_PTCW = \"PTCW\"\n",
    "_PT_path = \"PT path\"\n",
    "_PTL = \"PTL\"\n",
    "_PTCC = \"PTCC\"\n",
    "_PT_AST = \"PT AST\"\n",
    "_PT_frame = \"PT frame\"\n",
    "\n",
    "def run_example(program_key=\"some subroutines\"):\n",
    "    _, lines, components = pt.compile_teal_with_components(program[program_key], pt.Mode.Application, version=7)\n",
    "    m = ptsm.get_source_map(lines, components, add_extras=True)\n",
    "    show_text(source[program_key])\n",
    "    print(ptsm.tabulate_source_map(\n",
    "        m,\n",
    "        teal_line_col=_TL,\n",
    "        teal_code_col=_Teal,\n",
    "        pyteal_exec_col=_PTE,\n",
    "        pyteal_code_window=_PTCW,\n",
    "        pyteal_code_context_col=_PTCC,\n",
    "        pyteal_path_col=_PT_path,\n",
    "        pyteal_line_col=_PTL,\n",
    "        pyteal_component_col=_PTC,\n",
    "        pyteal_qualname_col=_PTQ,\n",
    "        pyteal_ast_col=_PT_AST,\n",
    "    ))\n",
    "    return m"
   ]
  },
  {
   "cell_type": "code",
   "execution_count": 32,
   "metadata": {},
   "outputs": [],
   "source": [
    "# class ASTCache:\n",
    "#     frozen: bool = False\n",
    "\n",
    "#     _sources: dict[string, string] = {}\n",
    "#     _asts: dice[string, ]\n",
    "\n",
    "def add_asts_to_frames(frames: Iterable[ptsm.PyTealFrame]):\n",
    "    \"\"\"And do it without compiling more than once per file\"\"\"\n",
    "    def get_jupyter_index(code) -> int | None:\n",
    "        indices = [i for i, cell_code in enumerate(_ih) if code in cell_code]\n",
    "        return indices[0] if indices else None\n",
    "\n",
    "\n",
    "    locations = [f.location() for f in frames]\n",
    "    files = [f.file() for f in frames]\n",
    "    codes = [f.code() for f in frames]\n",
    "    jupyter_idx = [get_jupyter_index(c) for c in codes]\n",
    "    # file2source = {f. for i, idx in enumerate(jupyter_idx) }\n",
    "    # sources = [_ih[idx] if idx is not None else open(files[i]).read() for i, idx in enumerate(jupyter_idx)]\n",
    "\n",
    "    file2source = {}\n",
    "    file2ast = {}\n",
    "    for i, f in enumerate(files):\n",
    "        if f in file2source:\n",
    "            continue\n",
    "\n",
    "        idx = jupyter_idx[i]\n",
    "        source = _ih[idx] if idx is not None else open(f).read()\n",
    "\n",
    "        file2source[f] = source\n",
    "        file2ast[f] = ast.parse(source)\n",
    "\n",
    "    \n",
    "    for i, f in enumerate(frames):\n",
    "        idx = jupyter_idx[i]\n",
    "        file = f.file()\n",
    "        f.source = file2source[file]\n",
    "        f.ast = file2ast[file]\n",
    "    \n",
    "    \n",
    "    return file2source, file2ast"
   ]
  },
  {
   "cell_type": "code",
   "execution_count": 33,
   "metadata": {},
   "outputs": [
    {
     "data": {
      "image/svg+xml": "<svg xmlns=\"http://www.w3.org/2000/svg\" xmlns:xlink=\"http://www.w3.org/1999/xlink\" width=\"5408pt\" height=\"620pt\" viewBox=\"0.00 0.00 5407.50 620.00\">\n<g id=\"graph0\" class=\"graph\" transform=\"scale(1 1) rotate(0) translate(4 616)\">\n<polygon fill=\"white\" stroke=\"none\" points=\"-4,4 -4,-616 5403.5,-616 5403.5,4 -4,4\"/>\n<!-- 0 -->\n<g id=\"node1\" class=\"node\">\n<title>0</title>\n<text text-anchor=\"start\" x=\"1065\" y=\"-591.3\" font-family=\"Courier,monospace\" font-weight=\"bold\" font-size=\"14.00\" fill=\"#004080\">Module</text>\n</g>\n<!-- 1 -->\n<g id=\"node2\" class=\"node\">\n<title>1</title>\n<text text-anchor=\"start\" x=\"42\" y=\"-519.3\" font-family=\"Courier,monospace\" font-weight=\"bold\" font-size=\"14.00\" fill=\"#004080\">ImportFrom L1:0-L1:44 </text>\n<text text-anchor=\"start\" x=\"224\" y=\"-519.3\" font-family=\"Courier,monospace\" font-weight=\"bold\" font-style=\"italic\" font-size=\"14.00\" fill=\"#004080\">from an_expression import goodnum as goodnum</text>\n</g>\n<!-- 0&#45;&#45;1 -->\n<g id=\"edge1\" class=\"edge\">\n<title>0--1</title>\n<path fill=\"none\" stroke=\"black\" d=\"M1090,-575C1090,-575 794.55,-555.18 568.5,-540.01\"/>\n</g>\n<!-- 7 -->\n<g id=\"node8\" class=\"node\">\n<title>7</title>\n<text text-anchor=\"start\" x=\"622.5\" y=\"-519.3\" font-family=\"Courier,monospace\" font-weight=\"bold\" font-size=\"14.00\" fill=\"#004080\">ImportFrom L2:0-L2:33 </text>\n<text text-anchor=\"start\" x=\"804.5\" y=\"-519.3\" font-family=\"Courier,monospace\" font-weight=\"bold\" font-style=\"italic\" font-size=\"14.00\" fill=\"#004080\">from pyteal.types import TealType</text>\n</g>\n<!-- 0&#45;&#45;7 -->\n<g id=\"edge7\" class=\"edge\">\n<title>0--7</title>\n<path fill=\"none\" stroke=\"black\" d=\"M1090,-575C1090,-575 998.58,-555.19 928.58,-540.03\"/>\n</g>\n<!-- 12 -->\n<g id=\"node13\" class=\"node\">\n<title>12</title>\n<text text-anchor=\"start\" x=\"1112\" y=\"-519.3\" font-family=\"Courier,monospace\" font-weight=\"bold\" font-size=\"14.00\" fill=\"#004080\">Assign L4:0-L4:35 </text>\n<text text-anchor=\"start\" x=\"1261\" y=\"-519.3\" font-family=\"Courier,monospace\" font-weight=\"bold\" font-style=\"italic\" font-size=\"14.00\" fill=\"#004080\">x3 = pt.ScratchVar(TealType.uint64)</text>\n</g>\n<!-- 0&#45;&#45;12 -->\n<g id=\"edge12\" class=\"edge\">\n<title>0--12</title>\n<path fill=\"none\" stroke=\"black\" d=\"M1090,-575C1090,-575 1181.8,-555.19 1252.09,-540.03\"/>\n</g>\n<!-- 29 -->\n<g id=\"node30\" class=\"node\">\n<title>29</title>\n<text text-anchor=\"start\" x=\"1584.5\" y=\"-519.3\" font-family=\"Courier,monospace\" font-weight=\"bold\" font-size=\"14.00\" fill=\"#004080\">Assign L4:37-L4:155 </text>\n<text text-anchor=\"start\" x=\"1750.5\" y=\"-519.3\" font-family=\"Courier,monospace\" font-weight=\"bold\" font-style=\"italic\" font-size=\"14.00\" fill=\"#004080\">semi_coloned = pt.Seq(pt.Pop(hello), pt.Pop(goodnum), x3.store(pt.Int(1000)), pt.Pop(pt.Int(1337) - pt.Int(42)), goodbye)</text>\n</g>\n<!-- 0&#45;&#45;29 -->\n<g id=\"edge29\" class=\"edge\">\n<title>0--29</title>\n<path fill=\"none\" stroke=\"black\" d=\"M1090,-575C1090,-575 1500.58,-555.18 1814.72,-540.01\"/>\n</g>\n<!-- 2 -->\n<g id=\"node3\" class=\"node\">\n<title>2</title>\n<text text-anchor=\"middle\" x=\"70\" y=\"-446.3\" font-family=\"Courier,monospace\" font-size=\"14.00\" fill=\"#008040\">&quot;an_expression&quot;</text>\n</g>\n<!-- 1&#45;&#45;2 -->\n<g id=\"edge2\" class=\"edge\">\n<title>1--2</title>\n<path fill=\"none\" stroke=\"black\" d=\"M315,-503C315,-503 222.75,-483.71 149,-468 146.12,-467.39 143.18,-466.76 140.21,-466.12\"/>\n</g>\n<!-- 3 -->\n<g id=\"node4\" class=\"node\">\n<title>3</title>\n<text text-anchor=\"start\" x=\"166\" y=\"-447.3\" font-family=\"Courier,monospace\" font-weight=\"bold\" font-size=\"14.00\" fill=\"#004080\">alias L1:26-L1:44 </text>\n<text text-anchor=\"start\" x=\"315\" y=\"-447.3\" font-family=\"Courier,monospace\" font-weight=\"bold\" font-style=\"italic\" font-size=\"14.00\" fill=\"#004080\">goodnum as goodnum</text>\n</g>\n<!-- 1&#45;&#45;3 -->\n<g id=\"edge3\" class=\"edge\">\n<title>1--3</title>\n<path fill=\"none\" stroke=\"black\" d=\"M315,-503C315,-503 315,-483.19 315,-468.03\"/>\n</g>\n<!-- 6 -->\n<g id=\"node7\" class=\"node\">\n<title>6</title>\n<text text-anchor=\"middle\" x=\"517\" y=\"-446.3\" font-family=\"Courier,monospace\" font-size=\"14.00\" fill=\"#008040\">0</text>\n</g>\n<!-- 1&#45;&#45;6 -->\n<g id=\"edge6\" class=\"edge\">\n<title>1--6</title>\n<path fill=\"none\" stroke=\"black\" d=\"M315,-503C315,-503 409.54,-492.04 481,-468 483.88,-467.03 486.84,-465.89 489.76,-464.67\"/>\n</g>\n<!-- 4 -->\n<g id=\"node5\" class=\"node\">\n<title>4</title>\n<text text-anchor=\"middle\" x=\"261\" y=\"-374.3\" font-family=\"Courier,monospace\" font-size=\"14.00\" fill=\"#008040\">&quot;goodnum&quot;</text>\n</g>\n<!-- 3&#45;&#45;4 -->\n<g id=\"edge4\" class=\"edge\">\n<title>3--4</title>\n<path fill=\"none\" stroke=\"black\" d=\"M315,-431C315,-431 294.43,-411.19 278.68,-396.03\"/>\n</g>\n<!-- 5 -->\n<g id=\"node6\" class=\"node\">\n<title>5</title>\n<text text-anchor=\"middle\" x=\"370\" y=\"-374.3\" font-family=\"Courier,monospace\" font-size=\"14.00\" fill=\"#008040\">&quot;goodnum&quot;</text>\n</g>\n<!-- 3&#45;&#45;5 -->\n<g id=\"edge5\" class=\"edge\">\n<title>3--5</title>\n<path fill=\"none\" stroke=\"black\" d=\"M315,-431C315,-431 335.95,-411.19 351.99,-396.03\"/>\n</g>\n<!-- 8 -->\n<g id=\"node9\" class=\"node\">\n<title>8</title>\n<text text-anchor=\"middle\" x=\"650\" y=\"-446.3\" font-family=\"Courier,monospace\" font-size=\"14.00\" fill=\"#008040\">&quot;pyteal.types&quot;</text>\n</g>\n<!-- 7&#45;&#45;8 -->\n<g id=\"edge8\" class=\"edge\">\n<title>7--8</title>\n<path fill=\"none\" stroke=\"black\" d=\"M850,-503C850,-503 773.82,-483.19 715.49,-468.03\"/>\n</g>\n<!-- 9 -->\n<g id=\"node10\" class=\"node\">\n<title>9</title>\n<text text-anchor=\"start\" x=\"742\" y=\"-447.3\" font-family=\"Courier,monospace\" font-weight=\"bold\" font-size=\"14.00\" fill=\"#004080\">alias L2:25-L2:33 </text>\n<text text-anchor=\"start\" x=\"891\" y=\"-447.3\" font-family=\"Courier,monospace\" font-weight=\"bold\" font-style=\"italic\" font-size=\"14.00\" fill=\"#004080\">TealType</text>\n</g>\n<!-- 7&#45;&#45;9 -->\n<g id=\"edge9\" class=\"edge\">\n<title>7--9</title>\n<path fill=\"none\" stroke=\"black\" d=\"M850,-503C850,-503 850,-483.19 850,-468.03\"/>\n</g>\n<!-- 11 -->\n<g id=\"node12\" class=\"node\">\n<title>11</title>\n<text text-anchor=\"middle\" x=\"1011\" y=\"-446.3\" font-family=\"Courier,monospace\" font-size=\"14.00\" fill=\"#008040\">0</text>\n</g>\n<!-- 7&#45;&#45;11 -->\n<g id=\"edge11\" class=\"edge\">\n<title>7--11</title>\n<path fill=\"none\" stroke=\"black\" d=\"M850,-503C850,-503 920.95,-488.17 975,-468 977.85,-466.94 980.78,-465.74 983.69,-464.48\"/>\n</g>\n<!-- 10 -->\n<g id=\"node11\" class=\"node\">\n<title>10</title>\n<text text-anchor=\"middle\" x=\"850\" y=\"-374.3\" font-family=\"Courier,monospace\" font-size=\"14.00\" fill=\"#008040\">&quot;TealType&quot;</text>\n</g>\n<!-- 9&#45;&#45;10 -->\n<g id=\"edge10\" class=\"edge\">\n<title>9--10</title>\n<path fill=\"none\" stroke=\"black\" d=\"M850,-431.7C850,-420.85 850,-406.92 850,-396.1\"/>\n</g>\n<!-- 13 -->\n<g id=\"node14\" class=\"node\">\n<title>13</title>\n<text text-anchor=\"start\" x=\"1093.5\" y=\"-447.3\" font-family=\"Courier,monospace\" font-weight=\"bold\" font-size=\"14.00\" fill=\"#004080\">Name L4:0-L4:2 </text>\n<text text-anchor=\"start\" x=\"1217.5\" y=\"-447.3\" font-family=\"Courier,monospace\" font-weight=\"bold\" font-style=\"italic\" font-size=\"14.00\" fill=\"#004080\">x3</text>\n</g>\n<!-- 12&#45;&#45;13 -->\n<g id=\"edge13\" class=\"edge\">\n<title>12--13</title>\n<path fill=\"none\" stroke=\"black\" d=\"M1330,-503C1330,-503 1266.77,-483.19 1218.35,-468.03\"/>\n</g>\n<!-- 16 -->\n<g id=\"node17\" class=\"node\">\n<title>16</title>\n<text text-anchor=\"start\" x=\"1268.5\" y=\"-447.3\" font-family=\"Courier,monospace\" font-weight=\"bold\" font-size=\"14.00\" fill=\"#004080\">Call L4:5-L4:35 </text>\n<text text-anchor=\"start\" x=\"1401.5\" y=\"-447.3\" font-family=\"Courier,monospace\" font-weight=\"bold\" font-style=\"italic\" font-size=\"14.00\" fill=\"#004080\">pt.ScratchVar(TealType.uint64)</text>\n</g>\n<!-- 12&#45;&#45;16 -->\n<g id=\"edge16\" class=\"edge\">\n<title>12--16</title>\n<path fill=\"none\" stroke=\"black\" d=\"M1330,-503C1330,-503 1379.14,-483.19 1416.76,-468.03\"/>\n</g>\n<!-- 14 -->\n<g id=\"node15\" class=\"node\">\n<title>14</title>\n<text text-anchor=\"middle\" x=\"1108\" y=\"-374.3\" font-family=\"Courier,monospace\" font-size=\"14.00\" fill=\"#008040\">&quot;x3&quot;</text>\n</g>\n<!-- 13&#45;&#45;14 -->\n<g id=\"edge14\" class=\"edge\">\n<title>13--14</title>\n<path fill=\"none\" stroke=\"black\" d=\"M1160,-431C1160,-431 1140.19,-411.19 1125.03,-396.03\"/>\n</g>\n<!-- 15 -->\n<g id=\"node16\" class=\"node\">\n<title>15</title>\n<text text-anchor=\"middle\" x=\"1182\" y=\"-374.3\" font-family=\"Courier,monospace\" font-size=\"14.00\" fill=\"#008040\">Store</text>\n</g>\n<!-- 13&#45;&#45;15 -->\n<g id=\"edge15\" class=\"edge\">\n<title>13--15</title>\n<path fill=\"none\" stroke=\"black\" d=\"M1160,-431C1160,-431 1168.38,-411.19 1174.8,-396.03\"/>\n</g>\n<!-- 17 -->\n<g id=\"node18\" class=\"node\">\n<title>17</title>\n<text text-anchor=\"start\" x=\"1274\" y=\"-375.3\" font-family=\"Courier,monospace\" font-weight=\"bold\" font-size=\"14.00\" fill=\"#004080\">Attribute L4:5-L4:18 </text>\n<text text-anchor=\"start\" x=\"1448\" y=\"-375.3\" font-family=\"Courier,monospace\" font-weight=\"bold\" font-style=\"italic\" font-size=\"14.00\" fill=\"#004080\">pt.ScratchVar</text>\n</g>\n<!-- 16&#45;&#45;17 -->\n<g id=\"edge17\" class=\"edge\">\n<title>16--17</title>\n<path fill=\"none\" stroke=\"black\" d=\"M1467,-431C1467,-431 1447.19,-411.19 1432.03,-396.03\"/>\n</g>\n<!-- 23 -->\n<g id=\"node24\" class=\"node\">\n<title>23</title>\n<text text-anchor=\"start\" x=\"1628\" y=\"-375.3\" font-family=\"Courier,monospace\" font-weight=\"bold\" font-size=\"14.00\" fill=\"#004080\">Attribute L4:19-L4:34 </text>\n<text text-anchor=\"start\" x=\"1810\" y=\"-375.3\" font-family=\"Courier,monospace\" font-weight=\"bold\" font-style=\"italic\" font-size=\"14.00\" fill=\"#004080\">TealType.uint64</text>\n</g>\n<!-- 16&#45;&#45;23 -->\n<g id=\"edge23\" class=\"edge\">\n<title>16--23</title>\n<path fill=\"none\" stroke=\"black\" d=\"M1467,-431C1467,-431 1586.61,-411.19 1678.18,-396.03\"/>\n</g>\n<!-- 18 -->\n<g id=\"node19\" class=\"node\">\n<title>18</title>\n<text text-anchor=\"start\" x=\"1170.5\" y=\"-303.3\" font-family=\"Courier,monospace\" font-weight=\"bold\" font-size=\"14.00\" fill=\"#004080\">Name L4:5-L4:7 </text>\n<text text-anchor=\"start\" x=\"1294.5\" y=\"-303.3\" font-family=\"Courier,monospace\" font-weight=\"bold\" font-style=\"italic\" font-size=\"14.00\" fill=\"#004080\">pt</text>\n</g>\n<!-- 17&#45;&#45;18 -->\n<g id=\"edge18\" class=\"edge\">\n<title>17--18</title>\n<path fill=\"none\" stroke=\"black\" d=\"M1411,-359C1411,-359 1346.24,-339.19 1296.66,-324.03\"/>\n</g>\n<!-- 21 -->\n<g id=\"node22\" class=\"node\">\n<title>21</title>\n<text text-anchor=\"middle\" x=\"1396\" y=\"-302.3\" font-family=\"Courier,monospace\" font-size=\"14.00\" fill=\"#008040\">&quot;ScratchVar&quot;</text>\n</g>\n<!-- 17&#45;&#45;21 -->\n<g id=\"edge21\" class=\"edge\">\n<title>17--21</title>\n<path fill=\"none\" stroke=\"black\" d=\"M1411,-359C1411,-359 1405.29,-339.19 1400.91,-324.03\"/>\n</g>\n<!-- 22 -->\n<g id=\"node23\" class=\"node\">\n<title>22</title>\n<text text-anchor=\"middle\" x=\"1499\" y=\"-302.3\" font-family=\"Courier,monospace\" font-size=\"14.00\" fill=\"#008040\">Load</text>\n</g>\n<!-- 17&#45;&#45;22 -->\n<g id=\"edge22\" class=\"edge\">\n<title>17--22</title>\n<path fill=\"none\" stroke=\"black\" d=\"M1411,-359C1411,-359 1445.81,-338.43 1471.64,-323.17\"/>\n</g>\n<!-- 19 -->\n<g id=\"node20\" class=\"node\">\n<title>19</title>\n<text text-anchor=\"middle\" x=\"1205\" y=\"-230.3\" font-family=\"Courier,monospace\" font-size=\"14.00\" fill=\"#008040\">&quot;pt&quot;</text>\n</g>\n<!-- 18&#45;&#45;19 -->\n<g id=\"edge19\" class=\"edge\">\n<title>18--19</title>\n<path fill=\"none\" stroke=\"black\" d=\"M1241,-287C1241,-287 1227.29,-267.19 1216.79,-252.03\"/>\n</g>\n<!-- 20 -->\n<g id=\"node21\" class=\"node\">\n<title>20</title>\n<text text-anchor=\"middle\" x=\"1277\" y=\"-230.3\" font-family=\"Courier,monospace\" font-size=\"14.00\" fill=\"#008040\">Load</text>\n</g>\n<!-- 18&#45;&#45;20 -->\n<g id=\"edge20\" class=\"edge\">\n<title>18--20</title>\n<path fill=\"none\" stroke=\"black\" d=\"M1241,-287C1241,-287 1254.71,-267.19 1265.21,-252.03\"/>\n</g>\n<!-- 24 -->\n<g id=\"node25\" class=\"node\">\n<title>24</title>\n<text text-anchor=\"start\" x=\"1552\" y=\"-303.3\" font-family=\"Courier,monospace\" font-weight=\"bold\" font-size=\"14.00\" fill=\"#004080\">Name L4:19-L4:27 </text>\n<text text-anchor=\"start\" x=\"1693\" y=\"-303.3\" font-family=\"Courier,monospace\" font-weight=\"bold\" font-style=\"italic\" font-size=\"14.00\" fill=\"#004080\">TealType</text>\n</g>\n<!-- 23&#45;&#45;24 -->\n<g id=\"edge24\" class=\"edge\">\n<title>23--24</title>\n<path fill=\"none\" stroke=\"black\" d=\"M1787,-359C1787,-359 1737.1,-339.19 1698.89,-324.03\"/>\n</g>\n<!-- 27 -->\n<g id=\"node28\" class=\"node\">\n<title>27</title>\n<text text-anchor=\"middle\" x=\"1828\" y=\"-302.3\" font-family=\"Courier,monospace\" font-size=\"14.00\" fill=\"#008040\">&quot;uint64&quot;</text>\n</g>\n<!-- 23&#45;&#45;27 -->\n<g id=\"edge27\" class=\"edge\">\n<title>23--27</title>\n<path fill=\"none\" stroke=\"black\" d=\"M1787,-359C1787,-359 1802.62,-339.19 1814.58,-324.03\"/>\n</g>\n<!-- 28 -->\n<g id=\"node29\" class=\"node\">\n<title>28</title>\n<text text-anchor=\"middle\" x=\"1915\" y=\"-302.3\" font-family=\"Courier,monospace\" font-size=\"14.00\" fill=\"#008040\">Load</text>\n</g>\n<!-- 23&#45;&#45;28 -->\n<g id=\"edge28\" class=\"edge\">\n<title>23--28</title>\n<path fill=\"none\" stroke=\"black\" d=\"M1787,-359C1787,-359 1838.07,-340.83 1878,-324 1881.13,-322.68 1884.38,-321.26 1887.61,-319.82\"/>\n</g>\n<!-- 25 -->\n<g id=\"node26\" class=\"node\">\n<title>25</title>\n<text text-anchor=\"middle\" x=\"1608\" y=\"-230.3\" font-family=\"Courier,monospace\" font-size=\"14.00\" fill=\"#008040\">&quot;TealType&quot;</text>\n</g>\n<!-- 24&#45;&#45;25 -->\n<g id=\"edge25\" class=\"edge\">\n<title>24--25</title>\n<path fill=\"none\" stroke=\"black\" d=\"M1656,-287C1656,-287 1637.72,-267.19 1623.72,-252.03\"/>\n</g>\n<!-- 26 -->\n<g id=\"node27\" class=\"node\">\n<title>26</title>\n<text text-anchor=\"middle\" x=\"1703\" y=\"-230.3\" font-family=\"Courier,monospace\" font-size=\"14.00\" fill=\"#008040\">Load</text>\n</g>\n<!-- 24&#45;&#45;26 -->\n<g id=\"edge26\" class=\"edge\">\n<title>24--26</title>\n<path fill=\"none\" stroke=\"black\" d=\"M1656,-287C1656,-287 1673.9,-267.19 1687.61,-252.03\"/>\n</g>\n<!-- 30 -->\n<g id=\"node31\" class=\"node\">\n<title>30</title>\n<text text-anchor=\"start\" x=\"2037.5\" y=\"-447.3\" font-family=\"Courier,monospace\" font-weight=\"bold\" font-size=\"14.00\" fill=\"#004080\">Name L4:37-L4:49 </text>\n<text text-anchor=\"start\" x=\"2178.5\" y=\"-447.3\" font-family=\"Courier,monospace\" font-weight=\"bold\" font-style=\"italic\" font-size=\"14.00\" fill=\"#004080\">semi_coloned</text>\n</g>\n<!-- 29&#45;&#45;30 -->\n<g id=\"edge30\" class=\"edge\">\n<title>29--30</title>\n<path fill=\"none\" stroke=\"black\" d=\"M2182,-503C2182,-503 2172.86,-483.19 2165.86,-468.03\"/>\n</g>\n<!-- 33 -->\n<g id=\"node34\" class=\"node\">\n<title>33</title>\n<text text-anchor=\"start\" x=\"2588\" y=\"-447.3\" font-family=\"Courier,monospace\" font-weight=\"bold\" font-size=\"14.00\" fill=\"#004080\">Call L4:52-L4:155 </text>\n<text text-anchor=\"start\" x=\"2737\" y=\"-447.3\" font-family=\"Courier,monospace\" font-weight=\"bold\" font-style=\"italic\" font-size=\"14.00\" fill=\"#004080\">pt.Seq(pt.Pop(hello), pt.Pop(goodnum), x3.store(pt.Int(1000)), pt.Pop(pt.Int(1337) - pt.Int(42)), goodbye)</text>\n</g>\n<!-- 29&#45;&#45;33 -->\n<g id=\"edge33\" class=\"edge\">\n<title>29--33</title>\n<path fill=\"none\" stroke=\"black\" d=\"M2182,-503C2182,-503 2531.96,-483.18 2799.73,-468.01\"/>\n</g>\n<!-- 31 -->\n<g id=\"node32\" class=\"node\">\n<title>31</title>\n<text text-anchor=\"middle\" x=\"2045\" y=\"-374.3\" font-family=\"Courier,monospace\" font-size=\"14.00\" fill=\"#008040\">&quot;semi_coloned&quot;</text>\n</g>\n<!-- 30&#45;&#45;31 -->\n<g id=\"edge31\" class=\"edge\">\n<title>30--31</title>\n<path fill=\"none\" stroke=\"black\" d=\"M2148,-431C2148,-431 2108.77,-411.19 2078.73,-396.03\"/>\n</g>\n<!-- 32 -->\n<g id=\"node33\" class=\"node\">\n<title>32</title>\n<text text-anchor=\"middle\" x=\"2158\" y=\"-374.3\" font-family=\"Courier,monospace\" font-size=\"14.00\" fill=\"#008040\">Store</text>\n</g>\n<!-- 30&#45;&#45;32 -->\n<g id=\"edge32\" class=\"edge\">\n<title>30--32</title>\n<path fill=\"none\" stroke=\"black\" d=\"M2148,-431C2148,-431 2151.81,-411.19 2154.73,-396.03\"/>\n</g>\n<!-- 34 -->\n<g id=\"node35\" class=\"node\">\n<title>34</title>\n<text text-anchor=\"start\" x=\"2213\" y=\"-375.3\" font-family=\"Courier,monospace\" font-weight=\"bold\" font-size=\"14.00\" fill=\"#004080\">Attribute L4:52-L4:58 </text>\n<text text-anchor=\"start\" x=\"2395\" y=\"-375.3\" font-family=\"Courier,monospace\" font-weight=\"bold\" font-style=\"italic\" font-size=\"14.00\" fill=\"#004080\">pt.Seq</text>\n</g>\n<!-- 33&#45;&#45;34 -->\n<g id=\"edge34\" class=\"edge\">\n<title>33--34</title>\n<path fill=\"none\" stroke=\"black\" d=\"M3112,-431C3112,-431 2673.85,-401.9 2453.07,-387.24\"/>\n</g>\n<!-- 40 -->\n<g id=\"node41\" class=\"node\">\n<title>40</title>\n<text text-anchor=\"start\" x=\"2615.5\" y=\"-375.3\" font-family=\"Courier,monospace\" font-weight=\"bold\" font-size=\"14.00\" fill=\"#004080\">Call L4:59-L4:72 </text>\n<text text-anchor=\"start\" x=\"2756.5\" y=\"-375.3\" font-family=\"Courier,monospace\" font-weight=\"bold\" font-style=\"italic\" font-size=\"14.00\" fill=\"#004080\">pt.Pop(hello)</text>\n</g>\n<!-- 33&#45;&#45;40 -->\n<g id=\"edge40\" class=\"edge\">\n<title>33--40</title>\n<path fill=\"none\" stroke=\"black\" d=\"M3112,-431C3112,-431 2970.3,-411.19 2861.81,-396.03\"/>\n</g>\n<!-- 50 -->\n<g id=\"node51\" class=\"node\">\n<title>50</title>\n<text text-anchor=\"start\" x=\"2967.5\" y=\"-375.3\" font-family=\"Courier,monospace\" font-weight=\"bold\" font-size=\"14.00\" fill=\"#004080\">Call L4:74-L4:89 </text>\n<text text-anchor=\"start\" x=\"3108.5\" y=\"-375.3\" font-family=\"Courier,monospace\" font-weight=\"bold\" font-style=\"italic\" font-size=\"14.00\" fill=\"#004080\">pt.Pop(goodnum)</text>\n</g>\n<!-- 33&#45;&#45;50 -->\n<g id=\"edge50\" class=\"edge\">\n<title>33--50</title>\n<path fill=\"none\" stroke=\"black\" d=\"M3112,-431C3112,-431 3107.43,-411.19 3103.93,-396.03\"/>\n</g>\n<!-- 60 -->\n<g id=\"node61\" class=\"node\">\n<title>60</title>\n<text text-anchor=\"start\" x=\"3345.5\" y=\"-375.3\" font-family=\"Courier,monospace\" font-weight=\"bold\" font-size=\"14.00\" fill=\"#004080\">Call L4:90-L4:112 </text>\n<text text-anchor=\"start\" x=\"3494.5\" y=\"-375.3\" font-family=\"Courier,monospace\" font-weight=\"bold\" font-style=\"italic\" font-size=\"14.00\" fill=\"#004080\">x3.store(pt.Int(1000))</text>\n</g>\n<!-- 33&#45;&#45;60 -->\n<g id=\"edge60\" class=\"edge\">\n<title>33--60</title>\n<path fill=\"none\" stroke=\"black\" d=\"M3112,-431C3112,-431 3263.99,-411.19 3380.35,-396.03\"/>\n</g>\n<!-- 76 -->\n<g id=\"node77\" class=\"node\">\n<title>76</title>\n<text text-anchor=\"start\" x=\"4158\" y=\"-375.3\" font-family=\"Courier,monospace\" font-weight=\"bold\" font-size=\"14.00\" fill=\"#004080\">Call L4:113-L4:146 </text>\n<text text-anchor=\"start\" x=\"4315\" y=\"-375.3\" font-family=\"Courier,monospace\" font-weight=\"bold\" font-style=\"italic\" font-size=\"14.00\" fill=\"#004080\">pt.Pop(pt.Int(1337) - pt.Int(42))</text>\n</g>\n<!-- 33&#45;&#45;76 -->\n<g id=\"edge76\" class=\"edge\">\n<title>33--76</title>\n<path fill=\"none\" stroke=\"black\" d=\"M3112,-431C3112,-431 3787.55,-403.14 4149.74,-388.21\"/>\n</g>\n<!-- 103 -->\n<g id=\"node104\" class=\"node\">\n<title>103</title>\n<text text-anchor=\"start\" x=\"4868.5\" y=\"-375.3\" font-family=\"Courier,monospace\" font-weight=\"bold\" font-size=\"14.00\" fill=\"#004080\">Name L4:147-L4:154 </text>\n<text text-anchor=\"start\" x=\"5025.5\" y=\"-375.3\" font-family=\"Courier,monospace\" font-weight=\"bold\" font-style=\"italic\" font-size=\"14.00\" fill=\"#004080\">goodbye</text>\n</g>\n<!-- 33&#45;&#45;103 -->\n<g id=\"edge103\" class=\"edge\">\n<title>33--103</title>\n<path fill=\"none\" stroke=\"black\" d=\"M3112,-431C3112,-431 3941.66,-418.97 4605,-396 4690.54,-393.04 4787.13,-388.58 4860.3,-384.97\"/>\n</g>\n<!-- 35 -->\n<g id=\"node36\" class=\"node\">\n<title>35</title>\n<text text-anchor=\"start\" x=\"2042\" y=\"-303.3\" font-family=\"Courier,monospace\" font-weight=\"bold\" font-size=\"14.00\" fill=\"#004080\">Name L4:52-L4:54 </text>\n<text text-anchor=\"start\" x=\"2183\" y=\"-303.3\" font-family=\"Courier,monospace\" font-weight=\"bold\" font-style=\"italic\" font-size=\"14.00\" fill=\"#004080\">pt</text>\n</g>\n<!-- 34&#45;&#45;35 -->\n<g id=\"edge35\" class=\"edge\">\n<title>34--35</title>\n<path fill=\"none\" stroke=\"black\" d=\"M2314,-359C2314,-359 2240.48,-339.19 2184.2,-324.03\"/>\n</g>\n<!-- 38 -->\n<g id=\"node39\" class=\"node\">\n<title>38</title>\n<text text-anchor=\"middle\" x=\"2255\" y=\"-302.3\" font-family=\"Courier,monospace\" font-size=\"14.00\" fill=\"#008040\">&quot;Seq&quot;</text>\n</g>\n<!-- 34&#45;&#45;38 -->\n<g id=\"edge38\" class=\"edge\">\n<title>34--38</title>\n<path fill=\"none\" stroke=\"black\" d=\"M2314,-359C2314,-359 2291.53,-339.19 2274.32,-324.03\"/>\n</g>\n<!-- 39 -->\n<g id=\"node40\" class=\"node\">\n<title>39</title>\n<text text-anchor=\"middle\" x=\"2329\" y=\"-302.3\" font-family=\"Courier,monospace\" font-size=\"14.00\" fill=\"#008040\">Load</text>\n</g>\n<!-- 34&#45;&#45;39 -->\n<g id=\"edge39\" class=\"edge\">\n<title>34--39</title>\n<path fill=\"none\" stroke=\"black\" d=\"M2314,-359C2314,-359 2319.71,-339.19 2324.09,-324.03\"/>\n</g>\n<!-- 36 -->\n<g id=\"node37\" class=\"node\">\n<title>36</title>\n<text text-anchor=\"middle\" x=\"2085\" y=\"-230.3\" font-family=\"Courier,monospace\" font-size=\"14.00\" fill=\"#008040\">&quot;pt&quot;</text>\n</g>\n<!-- 35&#45;&#45;36 -->\n<g id=\"edge36\" class=\"edge\">\n<title>35--36</title>\n<path fill=\"none\" stroke=\"black\" d=\"M2121,-287C2121,-287 2107.29,-267.19 2096.79,-252.03\"/>\n</g>\n<!-- 37 -->\n<g id=\"node38\" class=\"node\">\n<title>37</title>\n<text text-anchor=\"middle\" x=\"2157\" y=\"-230.3\" font-family=\"Courier,monospace\" font-size=\"14.00\" fill=\"#008040\">Load</text>\n</g>\n<!-- 35&#45;&#45;37 -->\n<g id=\"edge37\" class=\"edge\">\n<title>35--37</title>\n<path fill=\"none\" stroke=\"black\" d=\"M2121,-287C2121,-287 2134.71,-267.19 2145.21,-252.03\"/>\n</g>\n<!-- 41 -->\n<g id=\"node42\" class=\"node\">\n<title>41</title>\n<text text-anchor=\"start\" x=\"2382\" y=\"-303.3\" font-family=\"Courier,monospace\" font-weight=\"bold\" font-size=\"14.00\" fill=\"#004080\">Attribute L4:59-L4:65 </text>\n<text text-anchor=\"start\" x=\"2564\" y=\"-303.3\" font-family=\"Courier,monospace\" font-weight=\"bold\" font-style=\"italic\" font-size=\"14.00\" fill=\"#004080\">pt.Pop</text>\n</g>\n<!-- 40&#45;&#45;41 -->\n<g id=\"edge41\" class=\"edge\">\n<title>40--41</title>\n<path fill=\"none\" stroke=\"black\" d=\"M2726,-359C2726,-359 2639.15,-339.19 2572.66,-324.03\"/>\n</g>\n<!-- 47 -->\n<g id=\"node48\" class=\"node\">\n<title>47</title>\n<text text-anchor=\"start\" x=\"2648.5\" y=\"-303.3\" font-family=\"Courier,monospace\" font-weight=\"bold\" font-size=\"14.00\" fill=\"#004080\">Name L4:66-L4:71 </text>\n<text text-anchor=\"start\" x=\"2789.5\" y=\"-303.3\" font-family=\"Courier,monospace\" font-weight=\"bold\" font-style=\"italic\" font-size=\"14.00\" fill=\"#004080\">hello</text>\n</g>\n<!-- 40&#45;&#45;47 -->\n<g id=\"edge47\" class=\"edge\">\n<title>40--47</title>\n<path fill=\"none\" stroke=\"black\" d=\"M2726,-359C2726,-359 2731.33,-339.19 2735.42,-324.03\"/>\n</g>\n<!-- 42 -->\n<g id=\"node43\" class=\"node\">\n<title>42</title>\n<text text-anchor=\"start\" x=\"2275\" y=\"-231.3\" font-family=\"Courier,monospace\" font-weight=\"bold\" font-size=\"14.00\" fill=\"#004080\">Name L4:59-L4:61 </text>\n<text text-anchor=\"start\" x=\"2416\" y=\"-231.3\" font-family=\"Courier,monospace\" font-weight=\"bold\" font-style=\"italic\" font-size=\"14.00\" fill=\"#004080\">pt</text>\n</g>\n<!-- 41&#45;&#45;42 -->\n<g id=\"edge42\" class=\"edge\">\n<title>41--42</title>\n<path fill=\"none\" stroke=\"black\" d=\"M2495,-287C2495,-287 2441.29,-267.19 2400.17,-252.03\"/>\n</g>\n<!-- 45 -->\n<g id=\"node46\" class=\"node\">\n<title>45</title>\n<text text-anchor=\"middle\" x=\"2488\" y=\"-230.3\" font-family=\"Courier,monospace\" font-size=\"14.00\" fill=\"#008040\">&quot;Pop&quot;</text>\n</g>\n<!-- 41&#45;&#45;45 -->\n<g id=\"edge45\" class=\"edge\">\n<title>41--45</title>\n<path fill=\"none\" stroke=\"black\" d=\"M2495,-287C2495,-287 2492.33,-267.19 2490.29,-252.03\"/>\n</g>\n<!-- 46 -->\n<g id=\"node47\" class=\"node\">\n<title>46</title>\n<text text-anchor=\"middle\" x=\"2562\" y=\"-230.3\" font-family=\"Courier,monospace\" font-size=\"14.00\" fill=\"#008040\">Load</text>\n</g>\n<!-- 41&#45;&#45;46 -->\n<g id=\"edge46\" class=\"edge\">\n<title>41--46</title>\n<path fill=\"none\" stroke=\"black\" d=\"M2495,-287C2495,-287 2520.52,-267.19 2540.06,-252.03\"/>\n</g>\n<!-- 43 -->\n<g id=\"node44\" class=\"node\">\n<title>43</title>\n<text text-anchor=\"middle\" x=\"2318\" y=\"-158.3\" font-family=\"Courier,monospace\" font-size=\"14.00\" fill=\"#008040\">&quot;pt&quot;</text>\n</g>\n<!-- 42&#45;&#45;43 -->\n<g id=\"edge43\" class=\"edge\">\n<title>42--43</title>\n<path fill=\"none\" stroke=\"black\" d=\"M2354,-215C2354,-215 2340.29,-195.19 2329.79,-180.03\"/>\n</g>\n<!-- 44 -->\n<g id=\"node45\" class=\"node\">\n<title>44</title>\n<text text-anchor=\"middle\" x=\"2390\" y=\"-158.3\" font-family=\"Courier,monospace\" font-size=\"14.00\" fill=\"#008040\">Load</text>\n</g>\n<!-- 42&#45;&#45;44 -->\n<g id=\"edge44\" class=\"edge\">\n<title>42--44</title>\n<path fill=\"none\" stroke=\"black\" d=\"M2354,-215C2354,-215 2367.71,-195.19 2378.21,-180.03\"/>\n</g>\n<!-- 48 -->\n<g id=\"node49\" class=\"node\">\n<title>48</title>\n<text text-anchor=\"middle\" x=\"2644\" y=\"-230.3\" font-family=\"Courier,monospace\" font-size=\"14.00\" fill=\"#008040\">&quot;hello&quot;</text>\n</g>\n<!-- 47&#45;&#45;48 -->\n<g id=\"edge48\" class=\"edge\">\n<title>47--48</title>\n<path fill=\"none\" stroke=\"black\" d=\"M2729,-287C2729,-287 2696.62,-267.19 2671.83,-252.03\"/>\n</g>\n<!-- 49 -->\n<g id=\"node50\" class=\"node\">\n<title>49</title>\n<text text-anchor=\"middle\" x=\"2726\" y=\"-230.3\" font-family=\"Courier,monospace\" font-size=\"14.00\" fill=\"#008040\">Load</text>\n</g>\n<!-- 47&#45;&#45;49 -->\n<g id=\"edge49\" class=\"edge\">\n<title>47--49</title>\n<path fill=\"none\" stroke=\"black\" d=\"M2729,-287C2729,-287 2727.86,-267.19 2726.98,-252.03\"/>\n</g>\n<!-- 51 -->\n<g id=\"node52\" class=\"node\">\n<title>51</title>\n<text text-anchor=\"start\" x=\"2876\" y=\"-303.3\" font-family=\"Courier,monospace\" font-weight=\"bold\" font-size=\"14.00\" fill=\"#004080\">Attribute L4:74-L4:80 </text>\n<text text-anchor=\"start\" x=\"3058\" y=\"-303.3\" font-family=\"Courier,monospace\" font-weight=\"bold\" font-style=\"italic\" font-size=\"14.00\" fill=\"#004080\">pt.Pop</text>\n</g>\n<!-- 50&#45;&#45;51 -->\n<g id=\"edge51\" class=\"edge\">\n<title>50--51</title>\n<path fill=\"none\" stroke=\"black\" d=\"M3101,-359C3101,-359 3059.48,-339.19 3027.69,-324.03\"/>\n</g>\n<!-- 57 -->\n<g id=\"node58\" class=\"node\">\n<title>57</title>\n<text text-anchor=\"start\" x=\"3142.5\" y=\"-303.3\" font-family=\"Courier,monospace\" font-weight=\"bold\" font-size=\"14.00\" fill=\"#004080\">Name L4:81-L4:88 </text>\n<text text-anchor=\"start\" x=\"3283.5\" y=\"-303.3\" font-family=\"Courier,monospace\" font-weight=\"bold\" font-style=\"italic\" font-size=\"14.00\" fill=\"#004080\">goodnum</text>\n</g>\n<!-- 50&#45;&#45;57 -->\n<g id=\"edge57\" class=\"edge\">\n<title>50--57</title>\n<path fill=\"none\" stroke=\"black\" d=\"M3101,-359C3101,-359 3154.71,-339.19 3195.83,-324.03\"/>\n</g>\n<!-- 52 -->\n<g id=\"node53\" class=\"node\">\n<title>52</title>\n<text text-anchor=\"start\" x=\"2779\" y=\"-231.3\" font-family=\"Courier,monospace\" font-weight=\"bold\" font-size=\"14.00\" fill=\"#004080\">Name L4:74-L4:76 </text>\n<text text-anchor=\"start\" x=\"2920\" y=\"-231.3\" font-family=\"Courier,monospace\" font-weight=\"bold\" font-style=\"italic\" font-size=\"14.00\" fill=\"#004080\">pt</text>\n</g>\n<!-- 51&#45;&#45;52 -->\n<g id=\"edge52\" class=\"edge\">\n<title>51--52</title>\n<path fill=\"none\" stroke=\"black\" d=\"M2991,-287C2991,-287 2940.34,-267.19 2901.55,-252.03\"/>\n</g>\n<!-- 55 -->\n<g id=\"node56\" class=\"node\">\n<title>55</title>\n<text text-anchor=\"middle\" x=\"2992\" y=\"-230.3\" font-family=\"Courier,monospace\" font-size=\"14.00\" fill=\"#008040\">&quot;Pop&quot;</text>\n</g>\n<!-- 51&#45;&#45;55 -->\n<g id=\"edge55\" class=\"edge\">\n<title>51--55</title>\n<path fill=\"none\" stroke=\"black\" d=\"M2991,-287C2991,-287 2991.38,-267.19 2991.67,-252.03\"/>\n</g>\n<!-- 56 -->\n<g id=\"node57\" class=\"node\">\n<title>56</title>\n<text text-anchor=\"middle\" x=\"3066\" y=\"-230.3\" font-family=\"Courier,monospace\" font-size=\"14.00\" fill=\"#008040\">Load</text>\n</g>\n<!-- 51&#45;&#45;56 -->\n<g id=\"edge56\" class=\"edge\">\n<title>51--56</title>\n<path fill=\"none\" stroke=\"black\" d=\"M2991,-287C2991,-287 3019.57,-267.19 3041.44,-252.03\"/>\n</g>\n<!-- 53 -->\n<g id=\"node54\" class=\"node\">\n<title>53</title>\n<text text-anchor=\"middle\" x=\"2822\" y=\"-158.3\" font-family=\"Courier,monospace\" font-size=\"14.00\" fill=\"#008040\">&quot;pt&quot;</text>\n</g>\n<!-- 52&#45;&#45;53 -->\n<g id=\"edge53\" class=\"edge\">\n<title>52--53</title>\n<path fill=\"none\" stroke=\"black\" d=\"M2858,-215C2858,-215 2844.29,-195.19 2833.79,-180.03\"/>\n</g>\n<!-- 54 -->\n<g id=\"node55\" class=\"node\">\n<title>54</title>\n<text text-anchor=\"middle\" x=\"2894\" y=\"-158.3\" font-family=\"Courier,monospace\" font-size=\"14.00\" fill=\"#008040\">Load</text>\n</g>\n<!-- 52&#45;&#45;54 -->\n<g id=\"edge54\" class=\"edge\">\n<title>52--54</title>\n<path fill=\"none\" stroke=\"black\" d=\"M2858,-215C2858,-215 2871.71,-195.19 2882.21,-180.03\"/>\n</g>\n<!-- 58 -->\n<g id=\"node59\" class=\"node\">\n<title>58</title>\n<text text-anchor=\"middle\" x=\"3157\" y=\"-230.3\" font-family=\"Courier,monospace\" font-size=\"14.00\" fill=\"#008040\">&quot;goodnum&quot;</text>\n</g>\n<!-- 57&#45;&#45;58 -->\n<g id=\"edge58\" class=\"edge\">\n<title>57--58</title>\n<path fill=\"none\" stroke=\"black\" d=\"M3234,-287C3234,-287 3204.67,-267.19 3182.21,-252.03\"/>\n</g>\n<!-- 59 -->\n<g id=\"node60\" class=\"node\">\n<title>59</title>\n<text text-anchor=\"middle\" x=\"3248\" y=\"-230.3\" font-family=\"Courier,monospace\" font-size=\"14.00\" fill=\"#008040\">Load</text>\n</g>\n<!-- 57&#45;&#45;59 -->\n<g id=\"edge59\" class=\"edge\">\n<title>57--59</title>\n<path fill=\"none\" stroke=\"black\" d=\"M3234,-287C3234,-287 3239.33,-267.19 3243.42,-252.03\"/>\n</g>\n<!-- 61 -->\n<g id=\"node62\" class=\"node\">\n<title>61</title>\n<text text-anchor=\"start\" x=\"3386.5\" y=\"-303.3\" font-family=\"Courier,monospace\" font-weight=\"bold\" font-size=\"14.00\" fill=\"#004080\">Attribute L4:90-L4:98 </text>\n<text text-anchor=\"start\" x=\"3568.5\" y=\"-303.3\" font-family=\"Courier,monospace\" font-weight=\"bold\" font-style=\"italic\" font-size=\"14.00\" fill=\"#004080\">x3.store</text>\n</g>\n<!-- 60&#45;&#45;61 -->\n<g id=\"edge61\" class=\"edge\">\n<title>60--61</title>\n<path fill=\"none\" stroke=\"black\" d=\"M3525,-359C3525,-359 3519.67,-339.19 3515.58,-324.03\"/>\n</g>\n<!-- 67 -->\n<g id=\"node68\" class=\"node\">\n<title>67</title>\n<text text-anchor=\"start\" x=\"3669.5\" y=\"-303.3\" font-family=\"Courier,monospace\" font-weight=\"bold\" font-size=\"14.00\" fill=\"#004080\">Call L4:99-L4:111 </text>\n<text text-anchor=\"start\" x=\"3818.5\" y=\"-303.3\" font-family=\"Courier,monospace\" font-weight=\"bold\" font-style=\"italic\" font-size=\"14.00\" fill=\"#004080\">pt.Int(1000)</text>\n</g>\n<!-- 60&#45;&#45;67 -->\n<g id=\"edge67\" class=\"edge\">\n<title>60--67</title>\n<path fill=\"none\" stroke=\"black\" d=\"M3525,-359C3525,-359 3627.47,-339.19 3705.92,-324.03\"/>\n</g>\n<!-- 62 -->\n<g id=\"node63\" class=\"node\">\n<title>62</title>\n<text text-anchor=\"start\" x=\"3301\" y=\"-231.3\" font-family=\"Courier,monospace\" font-weight=\"bold\" font-size=\"14.00\" fill=\"#004080\">Name L4:90-L4:92 </text>\n<text text-anchor=\"start\" x=\"3442\" y=\"-231.3\" font-family=\"Courier,monospace\" font-weight=\"bold\" font-style=\"italic\" font-size=\"14.00\" fill=\"#004080\">x3</text>\n</g>\n<!-- 61&#45;&#45;62 -->\n<g id=\"edge62\" class=\"edge\">\n<title>61--62</title>\n<path fill=\"none\" stroke=\"black\" d=\"M3512,-287C3512,-287 3461.72,-267.19 3423.22,-252.03\"/>\n</g>\n<!-- 65 -->\n<g id=\"node66\" class=\"node\">\n<title>65</title>\n<text text-anchor=\"middle\" x=\"3522\" y=\"-230.3\" font-family=\"Courier,monospace\" font-size=\"14.00\" fill=\"#008040\">&quot;store&quot;</text>\n</g>\n<!-- 61&#45;&#45;65 -->\n<g id=\"edge65\" class=\"edge\">\n<title>61--65</title>\n<path fill=\"none\" stroke=\"black\" d=\"M3512,-287C3512,-287 3515.81,-267.19 3518.73,-252.03\"/>\n</g>\n<!-- 66 -->\n<g id=\"node67\" class=\"node\">\n<title>66</title>\n<text text-anchor=\"middle\" x=\"3604\" y=\"-230.3\" font-family=\"Courier,monospace\" font-size=\"14.00\" fill=\"#008040\">Load</text>\n</g>\n<!-- 61&#45;&#45;66 -->\n<g id=\"edge66\" class=\"edge\">\n<title>61--66</title>\n<path fill=\"none\" stroke=\"black\" d=\"M3512,-287C3512,-287 3549.76,-265.66 3576.89,-250.32\"/>\n</g>\n<!-- 63 -->\n<g id=\"node64\" class=\"node\">\n<title>63</title>\n<text text-anchor=\"middle\" x=\"3344\" y=\"-158.3\" font-family=\"Courier,monospace\" font-size=\"14.00\" fill=\"#008040\">&quot;x3&quot;</text>\n</g>\n<!-- 62&#45;&#45;63 -->\n<g id=\"edge63\" class=\"edge\">\n<title>62--63</title>\n<path fill=\"none\" stroke=\"black\" d=\"M3380,-215C3380,-215 3366.29,-195.19 3355.79,-180.03\"/>\n</g>\n<!-- 64 -->\n<g id=\"node65\" class=\"node\">\n<title>64</title>\n<text text-anchor=\"middle\" x=\"3416\" y=\"-158.3\" font-family=\"Courier,monospace\" font-size=\"14.00\" fill=\"#008040\">Load</text>\n</g>\n<!-- 62&#45;&#45;64 -->\n<g id=\"edge64\" class=\"edge\">\n<title>62--64</title>\n<path fill=\"none\" stroke=\"black\" d=\"M3380,-215C3380,-215 3393.71,-195.19 3404.21,-180.03\"/>\n</g>\n<!-- 68 -->\n<g id=\"node69\" class=\"node\">\n<title>68</title>\n<text text-anchor=\"start\" x=\"3657\" y=\"-231.3\" font-family=\"Courier,monospace\" font-weight=\"bold\" font-size=\"14.00\" fill=\"#004080\">Attribute L4:99-L4:105 </text>\n<text text-anchor=\"start\" x=\"3847\" y=\"-231.3\" font-family=\"Courier,monospace\" font-weight=\"bold\" font-style=\"italic\" font-size=\"14.00\" fill=\"#004080\">pt.Int</text>\n</g>\n<!-- 67&#45;&#45;68 -->\n<g id=\"edge68\" class=\"edge\">\n<title>67--68</title>\n<path fill=\"none\" stroke=\"black\" d=\"M3805,-287C3805,-287 3794.33,-267.19 3786.17,-252.03\"/>\n</g>\n<!-- 74 -->\n<g id=\"node75\" class=\"node\">\n<title>74</title>\n<text text-anchor=\"start\" x=\"3931\" y=\"-231.3\" font-family=\"Courier,monospace\" font-weight=\"bold\" font-size=\"14.00\" fill=\"#004080\">Constant L4:106-L4:110 </text>\n<text text-anchor=\"start\" x=\"4121\" y=\"-231.3\" font-family=\"Courier,monospace\" font-weight=\"bold\" font-style=\"italic\" font-size=\"14.00\" fill=\"#004080\">1000</text>\n</g>\n<!-- 67&#45;&#45;74 -->\n<g id=\"edge74\" class=\"edge\">\n<title>67--74</title>\n<path fill=\"none\" stroke=\"black\" d=\"M3805,-287C3805,-287 3895.66,-267.19 3965.07,-252.03\"/>\n</g>\n<!-- 69 -->\n<g id=\"node70\" class=\"node\">\n<title>69</title>\n<text text-anchor=\"start\" x=\"3556\" y=\"-159.3\" font-family=\"Courier,monospace\" font-weight=\"bold\" font-size=\"14.00\" fill=\"#004080\">Name L4:99-L4:101 </text>\n<text text-anchor=\"start\" x=\"3705\" y=\"-159.3\" font-family=\"Courier,monospace\" font-weight=\"bold\" font-style=\"italic\" font-size=\"14.00\" fill=\"#004080\">pt</text>\n</g>\n<!-- 68&#45;&#45;69 -->\n<g id=\"edge69\" class=\"edge\">\n<title>68--69</title>\n<path fill=\"none\" stroke=\"black\" d=\"M3776,-215C3776,-215 3723.81,-195.19 3683.86,-180.03\"/>\n</g>\n<!-- 72 -->\n<g id=\"node73\" class=\"node\">\n<title>72</title>\n<text text-anchor=\"middle\" x=\"3777\" y=\"-158.3\" font-family=\"Courier,monospace\" font-size=\"14.00\" fill=\"#008040\">&quot;Int&quot;</text>\n</g>\n<!-- 68&#45;&#45;72 -->\n<g id=\"edge72\" class=\"edge\">\n<title>68--72</title>\n<path fill=\"none\" stroke=\"black\" d=\"M3776,-215C3776,-215 3776.38,-195.19 3776.67,-180.03\"/>\n</g>\n<!-- 73 -->\n<g id=\"node74\" class=\"node\">\n<title>73</title>\n<text text-anchor=\"middle\" x=\"3851\" y=\"-158.3\" font-family=\"Courier,monospace\" font-size=\"14.00\" fill=\"#008040\">Load</text>\n</g>\n<!-- 68&#45;&#45;73 -->\n<g id=\"edge73\" class=\"edge\">\n<title>68--73</title>\n<path fill=\"none\" stroke=\"black\" d=\"M3776,-215C3776,-215 3804.57,-195.19 3826.44,-180.03\"/>\n</g>\n<!-- 70 -->\n<g id=\"node71\" class=\"node\">\n<title>70</title>\n<text text-anchor=\"middle\" x=\"3603\" y=\"-86.3\" font-family=\"Courier,monospace\" font-size=\"14.00\" fill=\"#008040\">&quot;pt&quot;</text>\n</g>\n<!-- 69&#45;&#45;70 -->\n<g id=\"edge70\" class=\"edge\">\n<title>69--70</title>\n<path fill=\"none\" stroke=\"black\" d=\"M3639,-143C3639,-143 3625.29,-123.19 3614.79,-108.03\"/>\n</g>\n<!-- 71 -->\n<g id=\"node72\" class=\"node\">\n<title>71</title>\n<text text-anchor=\"middle\" x=\"3675\" y=\"-86.3\" font-family=\"Courier,monospace\" font-size=\"14.00\" fill=\"#008040\">Load</text>\n</g>\n<!-- 69&#45;&#45;71 -->\n<g id=\"edge71\" class=\"edge\">\n<title>69--71</title>\n<path fill=\"none\" stroke=\"black\" d=\"M3639,-143C3639,-143 3652.71,-123.19 3663.21,-108.03\"/>\n</g>\n<!-- 75 -->\n<g id=\"node76\" class=\"node\">\n<title>75</title>\n<text text-anchor=\"middle\" x=\"4043\" y=\"-158.3\" font-family=\"Courier,monospace\" font-size=\"14.00\" fill=\"#008040\">1000</text>\n</g>\n<!-- 74&#45;&#45;75 -->\n<g id=\"edge75\" class=\"edge\">\n<title>74--75</title>\n<path fill=\"none\" stroke=\"black\" d=\"M4043,-215.7C4043,-204.85 4043,-190.92 4043,-180.1\"/>\n</g>\n<!-- 77 -->\n<g id=\"node78\" class=\"node\">\n<title>77</title>\n<text text-anchor=\"start\" x=\"4248.5\" y=\"-303.3\" font-family=\"Courier,monospace\" font-weight=\"bold\" font-size=\"14.00\" fill=\"#004080\">Attribute L4:113-L4:119 </text>\n<text text-anchor=\"start\" x=\"4447.5\" y=\"-303.3\" font-family=\"Courier,monospace\" font-weight=\"bold\" font-style=\"italic\" font-size=\"14.00\" fill=\"#004080\">pt.Pop</text>\n</g>\n<!-- 76&#45;&#45;77 -->\n<g id=\"edge77\" class=\"edge\">\n<title>76--77</title>\n<path fill=\"none\" stroke=\"black\" d=\"M4388,-359C4388,-359 4382.29,-339.19 4377.91,-324.03\"/>\n</g>\n<!-- 83 -->\n<g id=\"node84\" class=\"node\">\n<title>83</title>\n<text text-anchor=\"start\" x=\"4531.5\" y=\"-303.3\" font-family=\"Courier,monospace\" font-weight=\"bold\" font-size=\"14.00\" fill=\"#004080\">BinOp L4:120-L4:145 </text>\n<text text-anchor=\"start\" x=\"4697.5\" y=\"-303.3\" font-family=\"Courier,monospace\" font-weight=\"bold\" font-style=\"italic\" font-size=\"14.00\" fill=\"#004080\">pt.Int(1337) - pt.Int(42)</text>\n</g>\n<!-- 76&#45;&#45;83 -->\n<g id=\"edge83\" class=\"edge\">\n<title>76--83</title>\n<path fill=\"none\" stroke=\"black\" d=\"M4388,-359C4388,-359 4513.7,-339.19 4609.95,-324.03\"/>\n</g>\n<!-- 78 -->\n<g id=\"node79\" class=\"node\">\n<title>78</title>\n<text text-anchor=\"start\" x=\"4189\" y=\"-231.3\" font-family=\"Courier,monospace\" font-weight=\"bold\" font-size=\"14.00\" fill=\"#004080\">Name L4:113-L4:115 </text>\n<text text-anchor=\"start\" x=\"4346\" y=\"-231.3\" font-family=\"Courier,monospace\" font-weight=\"bold\" font-style=\"italic\" font-size=\"14.00\" fill=\"#004080\">pt</text>\n</g>\n<!-- 77&#45;&#45;78 -->\n<g id=\"edge78\" class=\"edge\">\n<title>77--78</title>\n<path fill=\"none\" stroke=\"black\" d=\"M4378,-287C4378,-287 4339.15,-267.19 4309.4,-252.03\"/>\n</g>\n<!-- 81 -->\n<g id=\"node82\" class=\"node\">\n<title>81</title>\n<text text-anchor=\"middle\" x=\"4418\" y=\"-230.3\" font-family=\"Courier,monospace\" font-size=\"14.00\" fill=\"#008040\">&quot;Pop&quot;</text>\n</g>\n<!-- 77&#45;&#45;81 -->\n<g id=\"edge81\" class=\"edge\">\n<title>77--81</title>\n<path fill=\"none\" stroke=\"black\" d=\"M4378,-287C4378,-287 4393.24,-267.19 4404.9,-252.03\"/>\n</g>\n<!-- 82 -->\n<g id=\"node83\" class=\"node\">\n<title>82</title>\n<text text-anchor=\"middle\" x=\"4492\" y=\"-230.3\" font-family=\"Courier,monospace\" font-size=\"14.00\" fill=\"#008040\">Load</text>\n</g>\n<!-- 77&#45;&#45;82 -->\n<g id=\"edge82\" class=\"edge\">\n<title>77--82</title>\n<path fill=\"none\" stroke=\"black\" d=\"M4378,-287C4378,-287 4421.49,-267.89 4456,-252 4458.89,-250.67 4461.9,-249.27 4464.9,-247.87\"/>\n</g>\n<!-- 79 -->\n<g id=\"node80\" class=\"node\">\n<title>79</title>\n<text text-anchor=\"middle\" x=\"4207\" y=\"-158.3\" font-family=\"Courier,monospace\" font-size=\"14.00\" fill=\"#008040\">&quot;pt&quot;</text>\n</g>\n<!-- 78&#45;&#45;79 -->\n<g id=\"edge79\" class=\"edge\">\n<title>78--79</title>\n<path fill=\"none\" stroke=\"black\" d=\"M4269,-215C4269,-215 4245.38,-195.19 4227.3,-180.03\"/>\n</g>\n<!-- 80 -->\n<g id=\"node81\" class=\"node\">\n<title>80</title>\n<text text-anchor=\"middle\" x=\"4279\" y=\"-158.3\" font-family=\"Courier,monospace\" font-size=\"14.00\" fill=\"#008040\">Load</text>\n</g>\n<!-- 78&#45;&#45;80 -->\n<g id=\"edge80\" class=\"edge\">\n<title>78--80</title>\n<path fill=\"none\" stroke=\"black\" d=\"M4269,-215C4269,-215 4272.81,-195.19 4275.73,-180.03\"/>\n</g>\n<!-- 84 -->\n<g id=\"node85\" class=\"node\">\n<title>84</title>\n<text text-anchor=\"start\" x=\"4545.5\" y=\"-231.3\" font-family=\"Courier,monospace\" font-weight=\"bold\" font-size=\"14.00\" fill=\"#004080\">Call L4:120-L4:132 </text>\n<text text-anchor=\"start\" x=\"4702.5\" y=\"-231.3\" font-family=\"Courier,monospace\" font-weight=\"bold\" font-style=\"italic\" font-size=\"14.00\" fill=\"#004080\">pt.Int(1337)</text>\n</g>\n<!-- 83&#45;&#45;84 -->\n<g id=\"edge84\" class=\"edge\">\n<title>83--84</title>\n<path fill=\"none\" stroke=\"black\" d=\"M4734,-287C4734,-287 4711.14,-267.19 4693.65,-252.03\"/>\n</g>\n<!-- 93 -->\n<g id=\"node94\" class=\"node\">\n<title>93</title>\n<text text-anchor=\"middle\" x=\"4856\" y=\"-230.3\" font-family=\"Courier,monospace\" font-size=\"14.00\" fill=\"#008040\">Sub</text>\n</g>\n<!-- 83&#45;&#45;93 -->\n<g id=\"edge93\" class=\"edge\">\n<title>83--93</title>\n<path fill=\"none\" stroke=\"black\" d=\"M4734,-287C4734,-287 4781.54,-268.31 4819,-252 4822.24,-250.59 4825.63,-249.08 4828.98,-247.57\"/>\n</g>\n<!-- 94 -->\n<g id=\"node95\" class=\"node\">\n<title>94</title>\n<text text-anchor=\"start\" x=\"4909\" y=\"-231.3\" font-family=\"Courier,monospace\" font-weight=\"bold\" font-size=\"14.00\" fill=\"#004080\">Call L4:135-L4:145 </text>\n<text text-anchor=\"start\" x=\"5066\" y=\"-231.3\" font-family=\"Courier,monospace\" font-weight=\"bold\" font-style=\"italic\" font-size=\"14.00\" fill=\"#004080\">pt.Int(42)</text>\n</g>\n<!-- 83&#45;&#45;94 -->\n<g id=\"edge94\" class=\"edge\">\n<title>83--94</title>\n<path fill=\"none\" stroke=\"black\" d=\"M4734,-287C4734,-287 4846.37,-267.19 4932.41,-252.03\"/>\n</g>\n<!-- 85 -->\n<g id=\"node86\" class=\"node\">\n<title>85</title>\n<text text-anchor=\"start\" x=\"4337.5\" y=\"-159.3\" font-family=\"Courier,monospace\" font-weight=\"bold\" font-size=\"14.00\" fill=\"#004080\">Attribute L4:120-L4:126 </text>\n<text text-anchor=\"start\" x=\"4536.5\" y=\"-159.3\" font-family=\"Courier,monospace\" font-weight=\"bold\" font-style=\"italic\" font-size=\"14.00\" fill=\"#004080\">pt.Int</text>\n</g>\n<!-- 84&#45;&#45;85 -->\n<g id=\"edge85\" class=\"edge\">\n<title>84--85</title>\n<path fill=\"none\" stroke=\"black\" d=\"M4669,-215C4669,-215 4590.15,-195.19 4529.78,-180.03\"/>\n</g>\n<!-- 91 -->\n<g id=\"node92\" class=\"node\">\n<title>91</title>\n<text text-anchor=\"start\" x=\"4621\" y=\"-159.3\" font-family=\"Courier,monospace\" font-weight=\"bold\" font-size=\"14.00\" fill=\"#004080\">Constant L4:127-L4:131 </text>\n<text text-anchor=\"start\" x=\"4811\" y=\"-159.3\" font-family=\"Courier,monospace\" font-weight=\"bold\" font-style=\"italic\" font-size=\"14.00\" fill=\"#004080\">1337</text>\n</g>\n<!-- 84&#45;&#45;91 -->\n<g id=\"edge91\" class=\"edge\">\n<title>84--91</title>\n<path fill=\"none\" stroke=\"black\" d=\"M4669,-215C4669,-215 4693.38,-195.19 4712.04,-180.03\"/>\n</g>\n<!-- 86 -->\n<g id=\"node87\" class=\"node\">\n<title>86</title>\n<text text-anchor=\"start\" x=\"4233\" y=\"-87.3\" font-family=\"Courier,monospace\" font-weight=\"bold\" font-size=\"14.00\" fill=\"#004080\">Name L4:120-L4:122 </text>\n<text text-anchor=\"start\" x=\"4390\" y=\"-87.3\" font-family=\"Courier,monospace\" font-weight=\"bold\" font-style=\"italic\" font-size=\"14.00\" fill=\"#004080\">pt</text>\n</g>\n<!-- 85&#45;&#45;86 -->\n<g id=\"edge86\" class=\"edge\">\n<title>85--86</title>\n<path fill=\"none\" stroke=\"black\" d=\"M4461,-143C4461,-143 4407.29,-123.19 4366.17,-108.03\"/>\n</g>\n<!-- 89 -->\n<g id=\"node90\" class=\"node\">\n<title>89</title>\n<text text-anchor=\"middle\" x=\"4462\" y=\"-86.3\" font-family=\"Courier,monospace\" font-size=\"14.00\" fill=\"#008040\">&quot;Int&quot;</text>\n</g>\n<!-- 85&#45;&#45;89 -->\n<g id=\"edge89\" class=\"edge\">\n<title>85--89</title>\n<path fill=\"none\" stroke=\"black\" d=\"M4461,-143C4461,-143 4461.38,-123.19 4461.67,-108.03\"/>\n</g>\n<!-- 90 -->\n<g id=\"node91\" class=\"node\">\n<title>90</title>\n<text text-anchor=\"middle\" x=\"4536\" y=\"-86.3\" font-family=\"Courier,monospace\" font-size=\"14.00\" fill=\"#008040\">Load</text>\n</g>\n<!-- 85&#45;&#45;90 -->\n<g id=\"edge90\" class=\"edge\">\n<title>85--90</title>\n<path fill=\"none\" stroke=\"black\" d=\"M4461,-143C4461,-143 4489.57,-123.19 4511.44,-108.03\"/>\n</g>\n<!-- 87 -->\n<g id=\"node88\" class=\"node\">\n<title>87</title>\n<text text-anchor=\"middle\" x=\"4284\" y=\"-14.3\" font-family=\"Courier,monospace\" font-size=\"14.00\" fill=\"#008040\">&quot;pt&quot;</text>\n</g>\n<!-- 86&#45;&#45;87 -->\n<g id=\"edge87\" class=\"edge\">\n<title>86--87</title>\n<path fill=\"none\" stroke=\"black\" d=\"M4320,-71C4320,-71 4306.29,-51.19 4295.79,-36.03\"/>\n</g>\n<!-- 88 -->\n<g id=\"node89\" class=\"node\">\n<title>88</title>\n<text text-anchor=\"middle\" x=\"4356\" y=\"-14.3\" font-family=\"Courier,monospace\" font-size=\"14.00\" fill=\"#008040\">Load</text>\n</g>\n<!-- 86&#45;&#45;88 -->\n<g id=\"edge88\" class=\"edge\">\n<title>86--88</title>\n<path fill=\"none\" stroke=\"black\" d=\"M4320,-71C4320,-71 4333.71,-51.19 4344.21,-36.03\"/>\n</g>\n<!-- 92 -->\n<g id=\"node93\" class=\"node\">\n<title>92</title>\n<text text-anchor=\"middle\" x=\"4733\" y=\"-86.3\" font-family=\"Courier,monospace\" font-size=\"14.00\" fill=\"#008040\">1337</text>\n</g>\n<!-- 91&#45;&#45;92 -->\n<g id=\"edge92\" class=\"edge\">\n<title>91--92</title>\n<path fill=\"none\" stroke=\"black\" d=\"M4733,-143.7C4733,-132.85 4733,-118.92 4733,-108.1\"/>\n</g>\n<!-- 95 -->\n<g id=\"node96\" class=\"node\">\n<title>95</title>\n<text text-anchor=\"start\" x=\"4901.5\" y=\"-159.3\" font-family=\"Courier,monospace\" font-weight=\"bold\" font-size=\"14.00\" fill=\"#004080\">Attribute L4:135-L4:141 </text>\n<text text-anchor=\"start\" x=\"5100.5\" y=\"-159.3\" font-family=\"Courier,monospace\" font-weight=\"bold\" font-style=\"italic\" font-size=\"14.00\" fill=\"#004080\">pt.Int</text>\n</g>\n<!-- 94&#45;&#45;95 -->\n<g id=\"edge95\" class=\"edge\">\n<title>94--95</title>\n<path fill=\"none\" stroke=\"black\" d=\"M5042,-215C5042,-215 5035.91,-195.19 5031.24,-180.03\"/>\n</g>\n<!-- 101 -->\n<g id=\"node102\" class=\"node\">\n<title>101</title>\n<text text-anchor=\"start\" x=\"5184.5\" y=\"-159.3\" font-family=\"Courier,monospace\" font-weight=\"bold\" font-size=\"14.00\" fill=\"#004080\">Constant L4:142-L4:144 </text>\n<text text-anchor=\"start\" x=\"5374.5\" y=\"-159.3\" font-family=\"Courier,monospace\" font-weight=\"bold\" font-style=\"italic\" font-size=\"14.00\" fill=\"#004080\">42</text>\n</g>\n<!-- 94&#45;&#45;101 -->\n<g id=\"edge101\" class=\"edge\">\n<title>94--101</title>\n<path fill=\"none\" stroke=\"black\" d=\"M5042,-215C5042,-215 5135.71,-195.19 5207.45,-180.03\"/>\n</g>\n<!-- 96 -->\n<g id=\"node97\" class=\"node\">\n<title>96</title>\n<text text-anchor=\"start\" x=\"4797\" y=\"-87.3\" font-family=\"Courier,monospace\" font-weight=\"bold\" font-size=\"14.00\" fill=\"#004080\">Name L4:135-L4:137 </text>\n<text text-anchor=\"start\" x=\"4954\" y=\"-87.3\" font-family=\"Courier,monospace\" font-weight=\"bold\" font-style=\"italic\" font-size=\"14.00\" fill=\"#004080\">pt</text>\n</g>\n<!-- 95&#45;&#45;96 -->\n<g id=\"edge96\" class=\"edge\">\n<title>95--96</title>\n<path fill=\"none\" stroke=\"black\" d=\"M5025,-143C5025,-143 4971.29,-123.19 4930.17,-108.03\"/>\n</g>\n<!-- 99 -->\n<g id=\"node100\" class=\"node\">\n<title>99</title>\n<text text-anchor=\"middle\" x=\"5026\" y=\"-86.3\" font-family=\"Courier,monospace\" font-size=\"14.00\" fill=\"#008040\">&quot;Int&quot;</text>\n</g>\n<!-- 95&#45;&#45;99 -->\n<g id=\"edge99\" class=\"edge\">\n<title>95--99</title>\n<path fill=\"none\" stroke=\"black\" d=\"M5025,-143C5025,-143 5025.38,-123.19 5025.67,-108.03\"/>\n</g>\n<!-- 100 -->\n<g id=\"node101\" class=\"node\">\n<title>100</title>\n<text text-anchor=\"middle\" x=\"5100\" y=\"-86.3\" font-family=\"Courier,monospace\" font-size=\"14.00\" fill=\"#008040\">Load</text>\n</g>\n<!-- 95&#45;&#45;100 -->\n<g id=\"edge100\" class=\"edge\">\n<title>95--100</title>\n<path fill=\"none\" stroke=\"black\" d=\"M5025,-143C5025,-143 5053.57,-123.19 5075.44,-108.03\"/>\n</g>\n<!-- 97 -->\n<g id=\"node98\" class=\"node\">\n<title>97</title>\n<text text-anchor=\"middle\" x=\"4848\" y=\"-14.3\" font-family=\"Courier,monospace\" font-size=\"14.00\" fill=\"#008040\">&quot;pt&quot;</text>\n</g>\n<!-- 96&#45;&#45;97 -->\n<g id=\"edge97\" class=\"edge\">\n<title>96--97</title>\n<path fill=\"none\" stroke=\"black\" d=\"M4884,-71C4884,-71 4870.29,-51.19 4859.79,-36.03\"/>\n</g>\n<!-- 98 -->\n<g id=\"node99\" class=\"node\">\n<title>98</title>\n<text text-anchor=\"middle\" x=\"4920\" y=\"-14.3\" font-family=\"Courier,monospace\" font-size=\"14.00\" fill=\"#008040\">Load</text>\n</g>\n<!-- 96&#45;&#45;98 -->\n<g id=\"edge98\" class=\"edge\">\n<title>96--98</title>\n<path fill=\"none\" stroke=\"black\" d=\"M4884,-71C4884,-71 4897.71,-51.19 4908.21,-36.03\"/>\n</g>\n<!-- 102 -->\n<g id=\"node103\" class=\"node\">\n<title>102</title>\n<text text-anchor=\"middle\" x=\"5288\" y=\"-86.3\" font-family=\"Courier,monospace\" font-size=\"14.00\" fill=\"#008040\">42</text>\n</g>\n<!-- 101&#45;&#45;102 -->\n<g id=\"edge102\" class=\"edge\">\n<title>101--102</title>\n<path fill=\"none\" stroke=\"black\" d=\"M5288,-143.7C5288,-132.85 5288,-118.92 5288,-108.1\"/>\n</g>\n<!-- 104 -->\n<g id=\"node105\" class=\"node\">\n<title>104</title>\n<text text-anchor=\"middle\" x=\"4976\" y=\"-302.3\" font-family=\"Courier,monospace\" font-size=\"14.00\" fill=\"#008040\">&quot;goodbye&quot;</text>\n</g>\n<!-- 103&#45;&#45;104 -->\n<g id=\"edge104\" class=\"edge\">\n<title>103--104</title>\n<path fill=\"none\" stroke=\"black\" d=\"M4985,-359C4985,-359 4981.57,-339.19 4978.95,-324.03\"/>\n</g>\n<!-- 105 -->\n<g id=\"node106\" class=\"node\">\n<title>105</title>\n<text text-anchor=\"middle\" x=\"5067\" y=\"-302.3\" font-family=\"Courier,monospace\" font-size=\"14.00\" fill=\"#008040\">Load</text>\n</g>\n<!-- 103&#45;&#45;105 -->\n<g id=\"edge105\" class=\"edge\">\n<title>103--105</title>\n<path fill=\"none\" stroke=\"black\" d=\"M4985,-359C4985,-359 5016.24,-339.19 5040.15,-324.03\"/>\n</g>\n</g>\n</svg>",
      "text/plain": [
       "<IPython.core.display.SVG object>"
      ]
     },
     "metadata": {},
     "output_type": "display_data"
    },
    {
     "name": "stdout",
     "output_type": "stream",
     "text": [
      "╒══════╤═══════════════════╤═════════════════════════════════════════════════════════╤═══════════════╤═════════════════════════════════════════════════════════════════════════════════════════════════════════════════════════════════════════════════════════════╤══════════════════════════════════════════════════════════════════════════════════════════════╤═══════╤═════════════════════════╤══════════════════════════════╤═══════════════════════════════════╕\n",
      "│   TL │ Teal              │ PTE                                                     │ PTCW          │ PTCC                                                                                                                                                        │ PT path                                                                                      │   PTL │ PTC                     │ PTQ                          │ PT AST                            │\n",
      "╞══════╪═══════════════════╪═════════════════════════════════════════════════════════╪═══════════════╪═════════════════════════════════════════════════════════════════════════════════════════════════════════════════════════════════════════════════════════════╪══════════════════════════════════════════════════════════════════════════════════════════════╪═══════╪═════════════════════════╪══════════════════════════════╪═══════════════════════════════════╡\n",
      "│    1 │ #pragma version 7 │                                                         │               │ PyTeal generated pragma: components = [TealPragma(version)] + components  # T2PT0                                                                           │ pyteal/compiler/compiler.py                                                                  │   328 │ TealPragma(7)           │ compile_teal_with_components │                                   │\n",
      "├──────┼───────────────────┼─────────────────────────────────────────────────────────┼───────────────┼─────────────────────────────────────────────────────────────────────────────────────────────────────────────────────────────────────────────────────────────┼──────────────────────────────────────────────────────────────────────────────────────────────┼───────┼─────────────────────────┼──────────────────────────────┼───────────────────────────────────┤\n",
      "│    2 │ byte \"hello\"      │ pt.Bytes('hello')                                       │ L1:32-L1:49   │ hello = pt.Seq(pt.Log(pt.Concat(pt.Bytes(\"hello\"),                                                                                                          │ ../../../../../var/folders/xf/ks83gjdd16dctb70r8p79w8h0000gp/T/ipykernel_16723/1435052594.py │     1 │ TealOp(byte, '\"hello\"') │ <cell line: 1>               │ <ast.Call object at 0x10ecf6e60>  │\n",
      "├──────┼───────────────────┼─────────────────────────────────────────────────────────┼───────────────┼─────────────────────────────────────────────────────────────────────────────────────────────────────────────────────────────────────────────────────────────┼──────────────────────────────────────────────────────────────────────────────────────────────┼───────┼─────────────────────────┼──────────────────────────────┼───────────────────────────────────┤\n",
      "│    3 │ byte \"world\"      │ pt.Bytes('world')                                       │ L2:4-L2:21    │ pt.Bytes(\"world\"))),                                                                                                                                        │ ../../../../../var/folders/xf/ks83gjdd16dctb70r8p79w8h0000gp/T/ipykernel_16723/1435052594.py │     2 │ TealOp(byte, '\"world\"') │ <cell line: 1>               │ <ast.Call object at 0x10ecf6da0>  │\n",
      "├──────┼───────────────────┼─────────────────────────────────────────────────────────┼───────────────┼─────────────────────────────────────────────────────────────────────────────────────────────────────────────────────────────────────────────────────────────┼──────────────────────────────────────────────────────────────────────────────────────────────┼───────┼─────────────────────────┼──────────────────────────────┼───────────────────────────────────┤\n",
      "│    4 │ concat            │ pt.Concat(pt.Bytes('hello'), pt.Bytes('world'))         │ L1:22-L2:22   │ hello = pt.Seq(pt.Log(pt.Concat(pt.Bytes(\"hello\"),                                                                                                          │ ../../../../../var/folders/xf/ks83gjdd16dctb70r8p79w8h0000gp/T/ipykernel_16723/1435052594.py │     1 │ TealOp(concat)          │ <cell line: 1>               │ <ast.Call object at 0x10ecf6ef0>  │\n",
      "├──────┼───────────────────┼─────────────────────────────────────────────────────────┼───────────────┼─────────────────────────────────────────────────────────────────────────────────────────────────────────────────────────────────────────────────────────────┼──────────────────────────────────────────────────────────────────────────────────────────────┼───────┼─────────────────────────┼──────────────────────────────┼───────────────────────────────────┤\n",
      "│    5 │ log               │ pt.Log(pt.Concat(pt.Bytes('hello'), pt.Bytes('world'))) │ L1:15-L2:23   │ hello = pt.Seq(pt.Log(pt.Concat(pt.Bytes(\"hello\"),                                                                                                          │ ../../../../../var/folders/xf/ks83gjdd16dctb70r8p79w8h0000gp/T/ipykernel_16723/1435052594.py │     1 │ TealOp(log)             │ <cell line: 1>               │ <ast.Call object at 0x10ecf6f80>  │\n",
      "├──────┼───────────────────┼─────────────────────────────────────────────────────────┼───────────────┼─────────────────────────────────────────────────────────────────────────────────────────────────────────────────────────────────────────────────────────────┼──────────────────────────────────────────────────────────────────────────────────────────────┼───────┼─────────────────────────┼──────────────────────────────┼───────────────────────────────────┤\n",
      "│    6 │ int 1             │ pt.Int(1)                                               │ L3:4-L3:13    │ pt.Int(1),                                                                                                                                                  │ ../../../../../var/folders/xf/ks83gjdd16dctb70r8p79w8h0000gp/T/ipykernel_16723/1435052594.py │     3 │ TealOp(int, 1)          │ <cell line: 1>               │ <ast.Call object at 0x10ecf6980>  │\n",
      "├──────┼───────────────────┼─────────────────────────────────────────────────────────┼───────────────┼─────────────────────────────────────────────────────────────────────────────────────────────────────────────────────────────────────────────────────────────┼──────────────────────────────────────────────────────────────────────────────────────────────┼───────┼─────────────────────────┼──────────────────────────────┼───────────────────────────────────┤\n",
      "│    7 │ pop               │ pt.Pop(hello)                                           │ L4:59-L4:72   │ x3 = pt.ScratchVar(TealType.uint64); semi_coloned = pt.Seq(pt.Pop(hello), pt.Pop(goodnum),x3.store(pt.Int(1000)),pt.Pop(pt.Int(1337) - pt.Int(42)),goodbye) │ ../../../../../var/folders/xf/ks83gjdd16dctb70r8p79w8h0000gp/T/ipykernel_16723/2048936513.py │     4 │ TealOp(pop)             │ <cell line: 4>               │ <ast.Call object at 0x10f4aa7d0>  │\n",
      "├──────┼───────────────────┼─────────────────────────────────────────────────────────┼───────────────┼─────────────────────────────────────────────────────────────────────────────────────────────────────────────────────────────────────────────────────────────┼──────────────────────────────────────────────────────────────────────────────────────────────┼───────┼─────────────────────────┼──────────────────────────────┼───────────────────────────────────┤\n",
      "│    8 │ int 42            │ pt.Int(42)                                              │ L3:10-L3:20   │ goodnum = pt.Int(42)                                                                                                                                        │ an_expression.py                                                                             │     3 │ TealOp(int, 42)         │ <module>                     │ <ast.Call object at 0x10ed26830>  │\n",
      "├──────┼───────────────────┼─────────────────────────────────────────────────────────┼───────────────┼─────────────────────────────────────────────────────────────────────────────────────────────────────────────────────────────────────────────────────────────┼──────────────────────────────────────────────────────────────────────────────────────────────┼───────┼─────────────────────────┼──────────────────────────────┼───────────────────────────────────┤\n",
      "│    9 │ pop               │ pt.Pop(goodnum)                                         │ L4:74-L4:89   │ x3 = pt.ScratchVar(TealType.uint64); semi_coloned = pt.Seq(pt.Pop(hello), pt.Pop(goodnum),x3.store(pt.Int(1000)),pt.Pop(pt.Int(1337) - pt.Int(42)),goodbye) │ ../../../../../var/folders/xf/ks83gjdd16dctb70r8p79w8h0000gp/T/ipykernel_16723/2048936513.py │     4 │ TealOp(pop)             │ <cell line: 4>               │ <ast.Call object at 0x10f4ab2e0>  │\n",
      "├──────┼───────────────────┼─────────────────────────────────────────────────────────┼───────────────┼─────────────────────────────────────────────────────────────────────────────────────────────────────────────────────────────────────────────────────────────┼──────────────────────────────────────────────────────────────────────────────────────────────┼───────┼─────────────────────────┼──────────────────────────────┼───────────────────────────────────┤\n",
      "│   10 │ int 1000          │ pt.Int(1000)                                            │ L4:99-L4:111  │ x3 = pt.ScratchVar(TealType.uint64); semi_coloned = pt.Seq(pt.Pop(hello), pt.Pop(goodnum),x3.store(pt.Int(1000)),pt.Pop(pt.Int(1337) - pt.Int(42)),goodbye) │ ../../../../../var/folders/xf/ks83gjdd16dctb70r8p79w8h0000gp/T/ipykernel_16723/2048936513.py │     4 │ TealOp(int, 1000)       │ <cell line: 4>               │ <ast.Call object at 0x10f4ab3d0>  │\n",
      "├──────┼───────────────────┼─────────────────────────────────────────────────────────┼───────────────┼─────────────────────────────────────────────────────────────────────────────────────────────────────────────────────────────────────────────────────────────┼──────────────────────────────────────────────────────────────────────────────────────────────┼───────┼─────────────────────────┼──────────────────────────────┼───────────────────────────────────┤\n",
      "│   11 │ store 0           │ x3.store(pt.Int(1000))                                  │ L4:90-L4:112  │ x3 = pt.ScratchVar(TealType.uint64); semi_coloned = pt.Seq(pt.Pop(hello), pt.Pop(goodnum),x3.store(pt.Int(1000)),pt.Pop(pt.Int(1337) - pt.Int(42)),goodbye) │ ../../../../../var/folders/xf/ks83gjdd16dctb70r8p79w8h0000gp/T/ipykernel_16723/2048936513.py │     4 │ TealOp(store, 0)        │ <cell line: 4>               │ <ast.Call object at 0x10f4aa6e0>  │\n",
      "├──────┼───────────────────┼─────────────────────────────────────────────────────────┼───────────────┼─────────────────────────────────────────────────────────────────────────────────────────────────────────────────────────────────────────────────────────────┼──────────────────────────────────────────────────────────────────────────────────────────────┼───────┼─────────────────────────┼──────────────────────────────┼───────────────────────────────────┤\n",
      "│   12 │ int 1337          │ pt.Int(1337)                                            │ L4:120-L4:132 │ x3 = pt.ScratchVar(TealType.uint64); semi_coloned = pt.Seq(pt.Pop(hello), pt.Pop(goodnum),x3.store(pt.Int(1000)),pt.Pop(pt.Int(1337) - pt.Int(42)),goodbye) │ ../../../../../var/folders/xf/ks83gjdd16dctb70r8p79w8h0000gp/T/ipykernel_16723/2048936513.py │     4 │ TealOp(int, 1337)       │ <cell line: 4>               │ <ast.Call object at 0x10f4a9900>  │\n",
      "├──────┼───────────────────┼─────────────────────────────────────────────────────────┼───────────────┼─────────────────────────────────────────────────────────────────────────────────────────────────────────────────────────────────────────────────────────────┼──────────────────────────────────────────────────────────────────────────────────────────────┼───────┼─────────────────────────┼──────────────────────────────┼───────────────────────────────────┤\n",
      "│   13 │ int 42            │ pt.Int(42)                                              │ L4:135-L4:145 │ x3 = pt.ScratchVar(TealType.uint64); semi_coloned = pt.Seq(pt.Pop(hello), pt.Pop(goodnum),x3.store(pt.Int(1000)),pt.Pop(pt.Int(1337) - pt.Int(42)),goodbye) │ ../../../../../var/folders/xf/ks83gjdd16dctb70r8p79w8h0000gp/T/ipykernel_16723/2048936513.py │     4 │ TealOp(int, 42)         │ <cell line: 4>               │ <ast.Call object at 0x10f4aaa40>  │\n",
      "├──────┼───────────────────┼─────────────────────────────────────────────────────────┼───────────────┼─────────────────────────────────────────────────────────────────────────────────────────────────────────────────────────────────────────────────────────────┼──────────────────────────────────────────────────────────────────────────────────────────────┼───────┼─────────────────────────┼──────────────────────────────┼───────────────────────────────────┤\n",
      "│   14 │ -                 │ pt.Int(1337) - pt.Int(42)                               │ L4:120-L4:145 │ x3 = pt.ScratchVar(TealType.uint64); semi_coloned = pt.Seq(pt.Pop(hello), pt.Pop(goodnum),x3.store(pt.Int(1000)),pt.Pop(pt.Int(1337) - pt.Int(42)),goodbye) │ ../../../../../var/folders/xf/ks83gjdd16dctb70r8p79w8h0000gp/T/ipykernel_16723/2048936513.py │     4 │ TealOp(-)               │ <cell line: 4>               │ <ast.BinOp object at 0x10f4a8a30> │\n",
      "├──────┼───────────────────┼─────────────────────────────────────────────────────────┼───────────────┼─────────────────────────────────────────────────────────────────────────────────────────────────────────────────────────────────────────────────────────────┼──────────────────────────────────────────────────────────────────────────────────────────────┼───────┼─────────────────────────┼──────────────────────────────┼───────────────────────────────────┤\n",
      "│   15 │ pop               │ pt.Pop(pt.Int(1337) - pt.Int(42))                       │ L4:113-L4:146 │ x3 = pt.ScratchVar(TealType.uint64); semi_coloned = pt.Seq(pt.Pop(hello), pt.Pop(goodnum),x3.store(pt.Int(1000)),pt.Pop(pt.Int(1337) - pt.Int(42)),goodbye) │ ../../../../../var/folders/xf/ks83gjdd16dctb70r8p79w8h0000gp/T/ipykernel_16723/2048936513.py │     4 │ TealOp(pop)             │ <cell line: 4>               │ <ast.Call object at 0x10f4a9540>  │\n",
      "├──────┼───────────────────┼─────────────────────────────────────────────────────────┼───────────────┼─────────────────────────────────────────────────────────────────────────────────────────────────────────────────────────────────────────────────────────────┼──────────────────────────────────────────────────────────────────────────────────────────────┼───────┼─────────────────────────┼──────────────────────────────┼───────────────────────────────────┤\n",
      "│   16 │ int 42            │ pt.Int(42)                                              │ L1:20-L1:30   │ goodbye = pt.Return(pt.Int(42))                                                                                                                             │ ../../../../../var/folders/xf/ks83gjdd16dctb70r8p79w8h0000gp/T/ipykernel_16723/1673176782.py │     1 │ TealOp(int, 42)         │ <cell line: 1>               │ <ast.Call object at 0x10ed24490>  │\n",
      "├──────┼───────────────────┼─────────────────────────────────────────────────────────┼───────────────┼─────────────────────────────────────────────────────────────────────────────────────────────────────────────────────────────────────────────────────────────┼──────────────────────────────────────────────────────────────────────────────────────────────┼───────┼─────────────────────────┼──────────────────────────────┼───────────────────────────────────┤\n",
      "│   17 │ return            │ pt.Return(pt.Int(42))                                   │ L1:10-L1:31   │ goodbye = pt.Return(pt.Int(42))                                                                                                                             │ ../../../../../var/folders/xf/ks83gjdd16dctb70r8p79w8h0000gp/T/ipykernel_16723/1673176782.py │     1 │ TealOp(return)          │ <cell line: 1>               │ <ast.Call object at 0x10ed283a0>  │\n",
      "╘══════╧═══════════════════╧═════════════════════════════════════════════════════════╧═══════════════╧═════════════════════════════════════════════════════════════════════════════════════════════════════════════════════════════════════════════════════════════╧══════════════════════════════════════════════════════════════════════════════════════════════╧═══════╧═════════════════════════╧══════════════════════════════╧═══════════════════════════════════╛\n"
     ]
    }
   ],
   "source": [
    "m = run_example(\"semi-coloned\")"
   ]
  },
  {
   "cell_type": "code",
   "execution_count": 19,
   "metadata": {},
   "outputs": [],
   "source": [
    "frames = [smi.frame for smi in m.values()]\n",
    "\n",
    "f2s, f2ast = add_asts_to_frames(frames)"
   ]
  },
  {
   "cell_type": "code",
   "execution_count": 20,
   "metadata": {},
   "outputs": [
    {
     "data": {
      "image/svg+xml": "<svg xmlns=\"http://www.w3.org/2000/svg\" xmlns:xlink=\"http://www.w3.org/1999/xlink\" width=\"980pt\" height=\"404pt\" viewBox=\"0.00 0.00 979.50 404.00\">\n<g id=\"graph0\" class=\"graph\" transform=\"scale(1 1) rotate(0) translate(4 400)\">\n<polygon fill=\"white\" stroke=\"none\" points=\"-4,4 -4,-400 975.5,-400 975.5,4 -4,4\"/>\n<!-- 0 -->\n<g id=\"node1\" class=\"node\">\n<title>0</title>\n<text text-anchor=\"start\" x=\"37.5\" y=\"-375.3\" font-family=\"Courier,monospace\" font-weight=\"bold\" font-size=\"14.00\" fill=\"#004080\">Assign L1:0-L1:31 </text>\n<text text-anchor=\"start\" x=\"186.5\" y=\"-375.3\" font-family=\"Courier,monospace\" font-weight=\"bold\" font-style=\"italic\" font-size=\"14.00\" fill=\"#004080\">goodbye = pt.Return(pt.Int(42))</text>\n</g>\n<!-- 1 -->\n<g id=\"node2\" class=\"node\">\n<title>1</title>\n<text text-anchor=\"start\" x=\"8\" y=\"-303.3\" font-family=\"Courier,monospace\" font-weight=\"bold\" font-size=\"14.00\" fill=\"#004080\">Name L1:0-L1:7 </text>\n<text text-anchor=\"start\" x=\"132\" y=\"-303.3\" font-family=\"Courier,monospace\" font-weight=\"bold\" font-style=\"italic\" font-size=\"14.00\" fill=\"#004080\">goodbye</text>\n</g>\n<!-- 0&#45;&#45;1 -->\n<g id=\"edge1\" class=\"edge\">\n<title>0--1</title>\n<path fill=\"none\" stroke=\"black\" d=\"M240,-359C240,-359 186.29,-339.19 145.17,-324.03\"/>\n</g>\n<!-- 4 -->\n<g id=\"node5\" class=\"node\">\n<title>4</title>\n<text text-anchor=\"start\" x=\"224.5\" y=\"-303.3\" font-family=\"Courier,monospace\" font-weight=\"bold\" font-size=\"14.00\" fill=\"#004080\">Call L1:10-L1:31 </text>\n<text text-anchor=\"start\" x=\"365.5\" y=\"-303.3\" font-family=\"Courier,monospace\" font-weight=\"bold\" font-style=\"italic\" font-size=\"14.00\" fill=\"#004080\">pt.Return(pt.Int(42))</text>\n</g>\n<!-- 0&#45;&#45;4 -->\n<g id=\"edge4\" class=\"edge\">\n<title>0--4</title>\n<path fill=\"none\" stroke=\"black\" d=\"M240,-359C240,-359 294.09,-339.19 335.5,-324.03\"/>\n</g>\n<!-- 2 -->\n<g id=\"node3\" class=\"node\">\n<title>2</title>\n<text text-anchor=\"middle\" x=\"53\" y=\"-230.3\" font-family=\"Courier,monospace\" font-size=\"14.00\" fill=\"#008040\">&quot;goodbye&quot;</text>\n</g>\n<!-- 1&#45;&#45;2 -->\n<g id=\"edge2\" class=\"edge\">\n<title>1--2</title>\n<path fill=\"none\" stroke=\"black\" d=\"M99,-287C99,-287 81.48,-267.19 68.06,-252.03\"/>\n</g>\n<!-- 3 -->\n<g id=\"node4\" class=\"node\">\n<title>3</title>\n<text text-anchor=\"middle\" x=\"146\" y=\"-230.3\" font-family=\"Courier,monospace\" font-size=\"14.00\" fill=\"#008040\">Store</text>\n</g>\n<!-- 1&#45;&#45;3 -->\n<g id=\"edge3\" class=\"edge\">\n<title>1--3</title>\n<path fill=\"none\" stroke=\"black\" d=\"M99,-287C99,-287 116.9,-267.19 130.61,-252.03\"/>\n</g>\n<!-- 5 -->\n<g id=\"node6\" class=\"node\">\n<title>5</title>\n<text text-anchor=\"start\" x=\"227.5\" y=\"-231.3\" font-family=\"Courier,monospace\" font-weight=\"bold\" font-size=\"14.00\" fill=\"#004080\">Attribute L1:10-L1:19 </text>\n<text text-anchor=\"start\" x=\"409.5\" y=\"-231.3\" font-family=\"Courier,monospace\" font-weight=\"bold\" font-style=\"italic\" font-size=\"14.00\" fill=\"#004080\">pt.Return</text>\n</g>\n<!-- 4&#45;&#45;5 -->\n<g id=\"edge5\" class=\"edge\">\n<title>4--5</title>\n<path fill=\"none\" stroke=\"black\" d=\"M391,-287C391,-287 377.67,-267.19 367.46,-252.03\"/>\n</g>\n<!-- 11 -->\n<g id=\"node12\" class=\"node\">\n<title>11</title>\n<text text-anchor=\"start\" x=\"519\" y=\"-231.3\" font-family=\"Courier,monospace\" font-weight=\"bold\" font-size=\"14.00\" fill=\"#004080\">Call L1:20-L1:30 </text>\n<text text-anchor=\"start\" x=\"660\" y=\"-231.3\" font-family=\"Courier,monospace\" font-weight=\"bold\" font-style=\"italic\" font-size=\"14.00\" fill=\"#004080\">pt.Int(42)</text>\n</g>\n<!-- 4&#45;&#45;11 -->\n<g id=\"edge11\" class=\"edge\">\n<title>4--11</title>\n<path fill=\"none\" stroke=\"black\" d=\"M391,-287C391,-287 482.42,-267.19 552.42,-252.03\"/>\n</g>\n<!-- 6 -->\n<g id=\"node7\" class=\"node\">\n<title>6</title>\n<text text-anchor=\"start\" x=\"130\" y=\"-159.3\" font-family=\"Courier,monospace\" font-weight=\"bold\" font-size=\"14.00\" fill=\"#004080\">Name L1:10-L1:12 </text>\n<text text-anchor=\"start\" x=\"271\" y=\"-159.3\" font-family=\"Courier,monospace\" font-weight=\"bold\" font-style=\"italic\" font-size=\"14.00\" fill=\"#004080\">pt</text>\n</g>\n<!-- 5&#45;&#45;6 -->\n<g id=\"edge6\" class=\"edge\">\n<title>5--6</title>\n<path fill=\"none\" stroke=\"black\" d=\"M355,-215C355,-215 299.39,-195.19 256.81,-180.03\"/>\n</g>\n<!-- 9 -->\n<g id=\"node10\" class=\"node\">\n<title>9</title>\n<text text-anchor=\"middle\" x=\"356\" y=\"-158.3\" font-family=\"Courier,monospace\" font-size=\"14.00\" fill=\"#008040\">&quot;Return&quot;</text>\n</g>\n<!-- 5&#45;&#45;9 -->\n<g id=\"edge9\" class=\"edge\">\n<title>5--9</title>\n<path fill=\"none\" stroke=\"black\" d=\"M355,-215C355,-215 355.38,-195.19 355.67,-180.03\"/>\n</g>\n<!-- 10 -->\n<g id=\"node11\" class=\"node\">\n<title>10</title>\n<text text-anchor=\"middle\" x=\"443\" y=\"-158.3\" font-family=\"Courier,monospace\" font-size=\"14.00\" fill=\"#008040\">Load</text>\n</g>\n<!-- 5&#45;&#45;10 -->\n<g id=\"edge10\" class=\"edge\">\n<title>5--10</title>\n<path fill=\"none\" stroke=\"black\" d=\"M355,-215C355,-215 389.81,-194.43 415.64,-179.17\"/>\n</g>\n<!-- 7 -->\n<g id=\"node8\" class=\"node\">\n<title>7</title>\n<text text-anchor=\"middle\" x=\"173\" y=\"-86.3\" font-family=\"Courier,monospace\" font-size=\"14.00\" fill=\"#008040\">&quot;pt&quot;</text>\n</g>\n<!-- 6&#45;&#45;7 -->\n<g id=\"edge7\" class=\"edge\">\n<title>6--7</title>\n<path fill=\"none\" stroke=\"black\" d=\"M209,-143C209,-143 195.29,-123.19 184.79,-108.03\"/>\n</g>\n<!-- 8 -->\n<g id=\"node9\" class=\"node\">\n<title>8</title>\n<text text-anchor=\"middle\" x=\"245\" y=\"-86.3\" font-family=\"Courier,monospace\" font-size=\"14.00\" fill=\"#008040\">Load</text>\n</g>\n<!-- 6&#45;&#45;8 -->\n<g id=\"edge8\" class=\"edge\">\n<title>6--8</title>\n<path fill=\"none\" stroke=\"black\" d=\"M209,-143C209,-143 222.71,-123.19 233.21,-108.03\"/>\n</g>\n<!-- 12 -->\n<g id=\"node13\" class=\"node\">\n<title>12</title>\n<text text-anchor=\"start\" x=\"506\" y=\"-159.3\" font-family=\"Courier,monospace\" font-weight=\"bold\" font-size=\"14.00\" fill=\"#004080\">Attribute L1:20-L1:26 </text>\n<text text-anchor=\"start\" x=\"688\" y=\"-159.3\" font-family=\"Courier,monospace\" font-weight=\"bold\" font-style=\"italic\" font-size=\"14.00\" fill=\"#004080\">pt.Int</text>\n</g>\n<!-- 11&#45;&#45;12 -->\n<g id=\"edge12\" class=\"edge\">\n<title>11--12</title>\n<path fill=\"none\" stroke=\"black\" d=\"M643,-215C643,-215 635,-195.19 628.88,-180.03\"/>\n</g>\n<!-- 18 -->\n<g id=\"node19\" class=\"node\">\n<title>18</title>\n<text text-anchor=\"start\" x=\"772.5\" y=\"-159.3\" font-family=\"Courier,monospace\" font-weight=\"bold\" font-size=\"14.00\" fill=\"#004080\">Constant L1:27-L1:29 </text>\n<text text-anchor=\"start\" x=\"946.5\" y=\"-159.3\" font-family=\"Courier,monospace\" font-weight=\"bold\" font-style=\"italic\" font-size=\"14.00\" fill=\"#004080\">42</text>\n</g>\n<!-- 11&#45;&#45;18 -->\n<g id=\"edge18\" class=\"edge\">\n<title>11--18</title>\n<path fill=\"none\" stroke=\"black\" d=\"M643,-215C643,-215 728.71,-195.19 794.33,-180.03\"/>\n</g>\n<!-- 13 -->\n<g id=\"node14\" class=\"node\">\n<title>13</title>\n<text text-anchor=\"start\" x=\"409\" y=\"-87.3\" font-family=\"Courier,monospace\" font-weight=\"bold\" font-size=\"14.00\" fill=\"#004080\">Name L1:20-L1:22 </text>\n<text text-anchor=\"start\" x=\"550\" y=\"-87.3\" font-family=\"Courier,monospace\" font-weight=\"bold\" font-style=\"italic\" font-size=\"14.00\" fill=\"#004080\">pt</text>\n</g>\n<!-- 12&#45;&#45;13 -->\n<g id=\"edge13\" class=\"edge\">\n<title>12--13</title>\n<path fill=\"none\" stroke=\"black\" d=\"M621,-143C621,-143 570.34,-123.19 531.55,-108.03\"/>\n</g>\n<!-- 16 -->\n<g id=\"node17\" class=\"node\">\n<title>16</title>\n<text text-anchor=\"middle\" x=\"622\" y=\"-86.3\" font-family=\"Courier,monospace\" font-size=\"14.00\" fill=\"#008040\">&quot;Int&quot;</text>\n</g>\n<!-- 12&#45;&#45;16 -->\n<g id=\"edge16\" class=\"edge\">\n<title>12--16</title>\n<path fill=\"none\" stroke=\"black\" d=\"M621,-143C621,-143 621.38,-123.19 621.67,-108.03\"/>\n</g>\n<!-- 17 -->\n<g id=\"node18\" class=\"node\">\n<title>17</title>\n<text text-anchor=\"middle\" x=\"696\" y=\"-86.3\" font-family=\"Courier,monospace\" font-size=\"14.00\" fill=\"#008040\">Load</text>\n</g>\n<!-- 12&#45;&#45;17 -->\n<g id=\"edge17\" class=\"edge\">\n<title>12--17</title>\n<path fill=\"none\" stroke=\"black\" d=\"M621,-143C621,-143 649.57,-123.19 671.44,-108.03\"/>\n</g>\n<!-- 14 -->\n<g id=\"node15\" class=\"node\">\n<title>14</title>\n<text text-anchor=\"middle\" x=\"452\" y=\"-14.3\" font-family=\"Courier,monospace\" font-size=\"14.00\" fill=\"#008040\">&quot;pt&quot;</text>\n</g>\n<!-- 13&#45;&#45;14 -->\n<g id=\"edge14\" class=\"edge\">\n<title>13--14</title>\n<path fill=\"none\" stroke=\"black\" d=\"M488,-71C488,-71 474.29,-51.19 463.79,-36.03\"/>\n</g>\n<!-- 15 -->\n<g id=\"node16\" class=\"node\">\n<title>15</title>\n<text text-anchor=\"middle\" x=\"524\" y=\"-14.3\" font-family=\"Courier,monospace\" font-size=\"14.00\" fill=\"#008040\">Load</text>\n</g>\n<!-- 13&#45;&#45;15 -->\n<g id=\"edge15\" class=\"edge\">\n<title>13--15</title>\n<path fill=\"none\" stroke=\"black\" d=\"M488,-71C488,-71 501.71,-51.19 512.21,-36.03\"/>\n</g>\n<!-- 19 -->\n<g id=\"node20\" class=\"node\">\n<title>19</title>\n<text text-anchor=\"middle\" x=\"868\" y=\"-86.3\" font-family=\"Courier,monospace\" font-size=\"14.00\" fill=\"#008040\">42</text>\n</g>\n<!-- 18&#45;&#45;19 -->\n<g id=\"edge19\" class=\"edge\">\n<title>18--19</title>\n<path fill=\"none\" stroke=\"black\" d=\"M868,-143.7C868,-132.85 868,-118.92 868,-108.1\"/>\n</g>\n</g>\n</svg>",
      "text/plain": [
       "<IPython.core.display.SVG object>"
      ]
     },
     "metadata": {},
     "output_type": "display_data"
    }
   ],
   "source": [
    "f2ast.keys()\n",
    "\n",
    "show_ast(list(f2ast.values())[-1])"
   ]
  },
  {
   "cell_type": "code",
   "execution_count": 21,
   "metadata": {},
   "outputs": [
    {
     "name": "stdout",
     "output_type": "stream",
     "text": [
      "(\"Expression(body=Call(func=Name(id='myfunc', ctx=Load()), args=[Name(id='a', \"\n",
      " \"ctx=Load()), Constant(value=100)], keywords=[keyword(arg='found', \"\n",
      " 'value=Constant(value=True))]))')\n",
      "__________\n",
      "Node<class 'ast.Call'> [1:0-->1:26]\n",
      "func=<ast.Name object at 0x1139166b0>\n",
      "args=[<ast.Name object at 0x113916680>, <ast.Constant object at 0x113916650>]\n",
      "keywords=[<ast.keyword object at 0x113916620>]\n",
      "__________\n",
      "Node<class 'ast.Name'> [1:0-->1:6]\n",
      "id=myfunc\n",
      "ctx=<ast.Load object at 0x10a8243d0>\n",
      "__________\n",
      "Node<class 'ast.Name'> [1:7-->1:8]\n",
      "id=a\n",
      "ctx=<ast.Load object at 0x10a8243d0>\n",
      "__________\n",
      "Node<class 'ast.Constant'> [1:10-->1:13]\n",
      "value=100\n",
      "kind=None\n",
      "__________\n",
      "Node<class 'ast.keyword'> [1:15-->1:25]\n",
      "arg=found\n",
      "value=<ast.Constant object at 0x1139165f0>\n",
      "__________\n",
      "Node<class 'ast.Constant'> [1:21-->1:25]\n",
      "value=True\n",
      "kind=None\n"
     ]
    }
   ],
   "source": [
    "import ast\n",
    "from pprint import pprint\n",
    "\n",
    "class CallVisitor(ast.NodeVisitor):\n",
    "    def print(self, node):\n",
    "        nl = \"_\" * 10 + \"\\n\"\n",
    "        print(f\"{nl}Node{type(node)} [{node.lineno}:{node.col_offset}-->{node.end_lineno}:{node.end_col_offset}]\")\n",
    "        for f in node._fields:\n",
    "            print(f\"{f}={getattr(node, f)}\")\n",
    "        \n",
    "\n",
    "    def visit_Call(self, node):\n",
    "        self.print(node)\n",
    "        ast.NodeVisitor.generic_visit(self, node)\n",
    "\n",
    "    def visit_Name(self,node):\n",
    "        self.print(node)\n",
    "        # print('Node type: Name\\nFields: ', node._fields)\n",
    "        ast.NodeVisitor.generic_visit(self, node)\n",
    "\n",
    "    def visit_Constant(self,node):\n",
    "        self.print(node)\n",
    "        # print('Node type: Constant\\nFields: ', node._fields)\n",
    "        ast.NodeVisitor.generic_visit(self, node)\n",
    "\n",
    "    def visit_keyword(self,node):\n",
    "        self.print(node)\n",
    "        # print('Node type: keyword\\nFields: ', node._fields)\n",
    "        ast.NodeVisitor.generic_visit(self, node)\n",
    "\n",
    "\n",
    "\n",
    "visitor = CallVisitor()\n",
    "tree = ast.parse(\"myfunc(a, 100, found=True)\", mode='eval')\n",
    "pprint(ast.dump(tree))\n",
    "visitor.visit(tree)"
   ]
  },
  {
   "cell_type": "code",
   "execution_count": 22,
   "metadata": {},
   "outputs": [
    {
     "name": "stdout",
     "output_type": "stream",
     "text": [
      "__________\n",
      "Node<class 'ast.Name'> [1:0-->1:5]\n",
      "id=hello\n",
      "ctx=<ast.Store object at 0x10a824430>\n",
      "__________\n",
      "Node<class 'ast.Call'> [1:8-->4:1]\n",
      "func=<ast.Attribute object at 0x113907f10>\n",
      "args=[<ast.Call object at 0x113907eb0>, <ast.Call object at 0x113907af0>]\n",
      "keywords=[]\n",
      "__________\n",
      "Node<class 'ast.Name'> [1:8-->1:10]\n",
      "id=pt\n",
      "ctx=<ast.Load object at 0x10a8243d0>\n",
      "__________\n",
      "Node<class 'ast.Call'> [1:15-->2:23]\n",
      "func=<ast.Attribute object at 0x113907e80>\n",
      "args=[<ast.Call object at 0x113907e20>]\n",
      "keywords=[]\n",
      "__________\n",
      "Node<class 'ast.Name'> [1:15-->1:17]\n",
      "id=pt\n",
      "ctx=<ast.Load object at 0x10a8243d0>\n",
      "__________\n",
      "Node<class 'ast.Call'> [1:22-->2:22]\n",
      "func=<ast.Attribute object at 0x113907cd0>\n",
      "args=[<ast.Call object at 0x113907c70>, <ast.Call object at 0x113907bb0>]\n",
      "keywords=[]\n",
      "__________\n",
      "Node<class 'ast.Name'> [1:22-->1:24]\n",
      "id=pt\n",
      "ctx=<ast.Load object at 0x10a8243d0>\n",
      "__________\n",
      "Node<class 'ast.Call'> [1:32-->1:49]\n",
      "func=<ast.Attribute object at 0x113907c40>\n",
      "args=[<ast.Constant object at 0x113907be0>]\n",
      "keywords=[]\n",
      "__________\n",
      "Node<class 'ast.Name'> [1:32-->1:34]\n",
      "id=pt\n",
      "ctx=<ast.Load object at 0x10a8243d0>\n",
      "__________\n",
      "Node<class 'ast.Constant'> [1:41-->1:48]\n",
      "value=hello\n",
      "kind=None\n",
      "__________\n",
      "Node<class 'ast.Call'> [2:4-->2:21]\n",
      "func=<ast.Attribute object at 0x113907b80>\n",
      "args=[<ast.Constant object at 0x113907b20>]\n",
      "keywords=[]\n",
      "__________\n",
      "Node<class 'ast.Name'> [2:4-->2:6]\n",
      "id=pt\n",
      "ctx=<ast.Load object at 0x10a8243d0>\n",
      "__________\n",
      "Node<class 'ast.Constant'> [2:13-->2:20]\n",
      "value=world\n",
      "kind=None\n",
      "__________\n",
      "Node<class 'ast.Call'> [3:4-->3:13]\n",
      "func=<ast.Attribute object at 0x113907ac0>\n",
      "args=[<ast.Constant object at 0x113907a60>]\n",
      "keywords=[]\n",
      "__________\n",
      "Node<class 'ast.Name'> [3:4-->3:6]\n",
      "id=pt\n",
      "ctx=<ast.Load object at 0x10a8243d0>\n",
      "__________\n",
      "Node<class 'ast.Constant'> [3:11-->3:12]\n",
      "value=1\n",
      "kind=None\n"
     ]
    }
   ],
   "source": [
    "visitor.visit(frames[1].ast)"
   ]
  },
  {
   "cell_type": "code",
   "execution_count": 23,
   "metadata": {},
   "outputs": [
    {
     "name": "stdout",
     "output_type": "stream",
     "text": [
      "Module(\n",
      "  body=[\n",
      "    Assign(\n",
      "      targets=[\n",
      "        Name(\n",
      "          id='hello',\n",
      "          ctx=Store(),\n",
      "          lineno=1,\n",
      "          col_offset=0,\n",
      "          end_lineno=1,\n",
      "          end_col_offset=5)],\n",
      "      value=Call(\n",
      "        func=Attribute(\n",
      "          value=Name(\n",
      "            id='pt',\n",
      "            ctx=Load(),\n",
      "            lineno=1,\n",
      "            col_offset=8,\n",
      "            end_lineno=1,\n",
      "            end_col_offset=10),\n",
      "          attr='Seq',\n",
      "          ctx=Load(),\n",
      "          lineno=1,\n",
      "          col_offset=8,\n",
      "          end_lineno=1,\n",
      "          end_col_offset=14),\n",
      "        args=[\n",
      "          Call(\n",
      "            func=Attribute(\n",
      "              value=Name(\n",
      "                id='pt',\n",
      "                ctx=Load(),\n",
      "                lineno=1,\n",
      "                col_offset=15,\n",
      "                end_lineno=1,\n",
      "                end_col_offset=17),\n",
      "              attr='Log',\n",
      "              ctx=Load(),\n",
      "              lineno=1,\n",
      "              col_offset=15,\n",
      "              end_lineno=1,\n",
      "              end_col_offset=21),\n",
      "            args=[\n",
      "              Call(\n",
      "                func=Attribute(\n",
      "                  value=Name(\n",
      "                    id='pt',\n",
      "                    ctx=Load(),\n",
      "                    lineno=1,\n",
      "                    col_offset=22,\n",
      "                    end_lineno=1,\n",
      "                    end_col_offset=24),\n",
      "                  attr='Concat',\n",
      "                  ctx=Load(),\n",
      "                  lineno=1,\n",
      "                  col_offset=22,\n",
      "                  end_lineno=1,\n",
      "                  end_col_offset=31),\n",
      "                args=[\n",
      "                  Call(\n",
      "                    func=Attribute(\n",
      "                      value=Name(\n",
      "                        id='pt',\n",
      "                        ctx=Load(),\n",
      "                        lineno=1,\n",
      "                        col_offset=32,\n",
      "                        end_lineno=1,\n",
      "                        end_col_offset=34),\n",
      "                      attr='Bytes',\n",
      "                      ctx=Load(),\n",
      "                      lineno=1,\n",
      "                      col_offset=32,\n",
      "                      end_lineno=1,\n",
      "                      end_col_offset=40),\n",
      "                    args=[\n",
      "                      Constant(\n",
      "                        value='hello',\n",
      "                        lineno=1,\n",
      "                        col_offset=41,\n",
      "                        end_lineno=1,\n",
      "                        end_col_offset=48)],\n",
      "                    keywords=[],\n",
      "                    lineno=1,\n",
      "                    col_offset=32,\n",
      "                    end_lineno=1,\n",
      "                    end_col_offset=49),\n",
      "                  Call(\n",
      "                    func=Attribute(\n",
      "                      value=Name(\n",
      "                        id='pt',\n",
      "                        ctx=Load(),\n",
      "                        lineno=2,\n",
      "                        col_offset=4,\n",
      "                        end_lineno=2,\n",
      "                        end_col_offset=6),\n",
      "                      attr='Bytes',\n",
      "                      ctx=Load(),\n",
      "                      lineno=2,\n",
      "                      col_offset=4,\n",
      "                      end_lineno=2,\n",
      "                      end_col_offset=12),\n",
      "                    args=[\n",
      "                      Constant(\n",
      "                        value='world',\n",
      "                        lineno=2,\n",
      "                        col_offset=13,\n",
      "                        end_lineno=2,\n",
      "                        end_col_offset=20)],\n",
      "                    keywords=[],\n",
      "                    lineno=2,\n",
      "                    col_offset=4,\n",
      "                    end_lineno=2,\n",
      "                    end_col_offset=21)],\n",
      "                keywords=[],\n",
      "                lineno=1,\n",
      "                col_offset=22,\n",
      "                end_lineno=2,\n",
      "                end_col_offset=22)],\n",
      "            keywords=[],\n",
      "            lineno=1,\n",
      "            col_offset=15,\n",
      "            end_lineno=2,\n",
      "            end_col_offset=23),\n",
      "          Call(\n",
      "            func=Attribute(\n",
      "              value=Name(\n",
      "                id='pt',\n",
      "                ctx=Load(),\n",
      "                lineno=3,\n",
      "                col_offset=4,\n",
      "                end_lineno=3,\n",
      "                end_col_offset=6),\n",
      "              attr='Int',\n",
      "              ctx=Load(),\n",
      "              lineno=3,\n",
      "              col_offset=4,\n",
      "              end_lineno=3,\n",
      "              end_col_offset=10),\n",
      "            args=[\n",
      "              Constant(\n",
      "                value=1,\n",
      "                lineno=3,\n",
      "                col_offset=11,\n",
      "                end_lineno=3,\n",
      "                end_col_offset=12)],\n",
      "            keywords=[],\n",
      "            lineno=3,\n",
      "            col_offset=4,\n",
      "            end_lineno=3,\n",
      "            end_col_offset=13)],\n",
      "        keywords=[],\n",
      "        lineno=1,\n",
      "        col_offset=8,\n",
      "        end_lineno=4,\n",
      "        end_col_offset=1),\n",
      "      lineno=1,\n",
      "      col_offset=0,\n",
      "      end_lineno=4,\n",
      "      end_col_offset=1)],\n",
      "  type_ignores=[])\n"
     ]
    }
   ],
   "source": [
    "print(ast.dump(frames[1].ast, include_attributes=True, indent=\"  \"))"
   ]
  },
  {
   "cell_type": "code",
   "execution_count": 24,
   "metadata": {},
   "outputs": [
    {
     "data": {
      "text/plain": [
       "(8, 'int 42', 3, 'goodnum = pt.Int(42)')"
      ]
     },
     "execution_count": 24,
     "metadata": {},
     "output_type": "execute_result"
    }
   ],
   "source": [
    "idx = 8\n",
    "m[idx].line, m[idx].teal, m[idx].frame.lineno(), m[idx].frame.code()"
   ]
  },
  {
   "cell_type": "code",
   "execution_count": 25,
   "metadata": {},
   "outputs": [],
   "source": [
    "pt_frame = m[idx].frame\n",
    "tb_frame = pt_frame.frame.frame"
   ]
  },
  {
   "cell_type": "code",
   "execution_count": 26,
   "metadata": {},
   "outputs": [
    {
     "name": "stdout",
     "output_type": "stream",
     "text": [
      "None\n"
     ]
    }
   ],
   "source": [
    "# %pip install executing\n",
    "import executing\n",
    "\n",
    "print(executing.Source.executing(tb_frame).node)\n"
   ]
  },
  {
   "cell_type": "code",
   "execution_count": 27,
   "metadata": {},
   "outputs": [
    {
     "data": {
      "text/plain": [
       "''"
      ]
     },
     "execution_count": 27,
     "metadata": {},
     "output_type": "execute_result"
    }
   ],
   "source": [
    "executing.Source.executing(tb_frame).text()"
   ]
  },
  {
   "cell_type": "code",
   "execution_count": 28,
   "metadata": {},
   "outputs": [
    {
     "data": {
      "text/plain": [
       "'<module>'"
      ]
     },
     "execution_count": 28,
     "metadata": {},
     "output_type": "execute_result"
    }
   ],
   "source": [
    "executing.Source.executing(tb_frame).code_qualname()"
   ]
  },
  {
   "cell_type": "code",
   "execution_count": 29,
   "metadata": {},
   "outputs": [
    {
     "data": {
      "text/plain": [
       "['f_trace_opcodes',\n",
       " 'f_trace_lines',\n",
       " 'f_trace',\n",
       " 'f_locals',\n",
       " 'f_lineno',\n",
       " 'f_lasti',\n",
       " 'f_globals',\n",
       " 'f_code',\n",
       " 'f_builtins',\n",
       " 'f_back',\n",
       " 'clear',\n",
       " '__subclasshook__',\n",
       " '__str__',\n",
       " '__sizeof__',\n",
       " '__setattr__',\n",
       " '__repr__',\n",
       " '__reduce_ex__',\n",
       " '__reduce__',\n",
       " '__new__',\n",
       " '__ne__',\n",
       " '__lt__',\n",
       " '__le__',\n",
       " '__init_subclass__',\n",
       " '__init__',\n",
       " '__hash__',\n",
       " '__gt__',\n",
       " '__getattribute__',\n",
       " '__ge__',\n",
       " '__format__',\n",
       " '__eq__',\n",
       " '__doc__',\n",
       " '__dir__',\n",
       " '__delattr__',\n",
       " '__class__']"
      ]
     },
     "execution_count": 29,
     "metadata": {},
     "output_type": "execute_result"
    }
   ],
   "source": [
    "list(reversed(dir(tb_frame)))"
   ]
  },
  {
   "cell_type": "code",
   "execution_count": 30,
   "metadata": {},
   "outputs": [
    {
     "data": {
      "text/plain": [
       "['replace',\n",
       " 'co_varnames',\n",
       " 'co_stacksize',\n",
       " 'co_posonlyargcount',\n",
       " 'co_nlocals',\n",
       " 'co_names',\n",
       " 'co_name',\n",
       " 'co_lnotab',\n",
       " 'co_linetable',\n",
       " 'co_lines',\n",
       " 'co_kwonlyargcount',\n",
       " 'co_freevars',\n",
       " 'co_flags',\n",
       " 'co_firstlineno',\n",
       " 'co_filename',\n",
       " 'co_consts',\n",
       " 'co_code',\n",
       " 'co_cellvars',\n",
       " 'co_argcount',\n",
       " '__subclasshook__',\n",
       " '__str__',\n",
       " '__sizeof__',\n",
       " '__setattr__',\n",
       " '__repr__',\n",
       " '__reduce_ex__',\n",
       " '__reduce__',\n",
       " '__new__',\n",
       " '__ne__',\n",
       " '__lt__',\n",
       " '__le__',\n",
       " '__init_subclass__',\n",
       " '__init__',\n",
       " '__hash__',\n",
       " '__gt__',\n",
       " '__getattribute__',\n",
       " '__ge__',\n",
       " '__format__',\n",
       " '__eq__',\n",
       " '__doc__',\n",
       " '__dir__',\n",
       " '__delattr__',\n",
       " '__class__']"
      ]
     },
     "execution_count": 30,
     "metadata": {},
     "output_type": "execute_result"
    }
   ],
   "source": [
    "list(reversed(dir(tb_frame.f_code)))"
   ]
  },
  {
   "cell_type": "code",
   "execution_count": null,
   "metadata": {},
   "outputs": [],
   "source": []
  }
 ],
 "metadata": {
  "kernelspec": {
   "display_name": "Python 3.10.4 ('py310ptt': venv)",
   "language": "python",
   "name": "python3"
  },
  "language_info": {
   "codemirror_mode": {
    "name": "ipython",
    "version": 3
   },
   "file_extension": ".py",
   "mimetype": "text/x-python",
   "name": "python",
   "nbconvert_exporter": "python",
   "pygments_lexer": "ipython3",
   "version": "3.10.4"
  },
  "orig_nbformat": 4,
  "vscode": {
   "interpreter": {
    "hash": "9c18cec947db19d75af92b598c2d0d8fa7c64ee0a21b50dda83e5378061e3f64"
   }
  }
 },
 "nbformat": 4,
 "nbformat_minor": 2
}
